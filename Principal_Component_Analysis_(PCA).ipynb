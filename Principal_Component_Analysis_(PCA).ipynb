{
  "nbformat": 4,
  "nbformat_minor": 0,
  "metadata": {
    "colab": {
      "provenance": [],
      "authorship_tag": "ABX9TyPwNEVrLSrYde6g0sEfRGcQ",
      "include_colab_link": true
    },
    "kernelspec": {
      "name": "python3",
      "display_name": "Python 3"
    },
    "language_info": {
      "name": "python"
    }
  },
  "cells": [
    {
      "cell_type": "markdown",
      "metadata": {
        "id": "view-in-github",
        "colab_type": "text"
      },
      "source": [
        "<a href=\"https://colab.research.google.com/github/Alexiserges/Feature-Selection/blob/main/Principal_Component_Analysis_(PCA).ipynb\" target=\"_parent\"><img src=\"https://colab.research.google.com/assets/colab-badge.svg\" alt=\"Open In Colab\"/></a>"
      ]
    },
    {
      "cell_type": "markdown",
      "source": [
        "Principal component analysis (PCA) is a popular technique for analyzing large datasets containing a high number of dimensions/features per observation, increasing the interpretability of data while preserving the maximum amount of information, and enabling the visualization of multidimensional data. \n",
        "Formally, PCA is a statistical technique for reducing the dimensionality of a dataset. This is accomplished by linearly transforming the data into a new coordinate system where (most of) the variation in the data can be described with fewer dimensions than the initial data. Many studies use the first two principal components in order to plot the data in two dimensions and to visually identify clusters of closely related data points. Principal component analysis has applications in many fields such as population genetics, microbiome studies, and atmospheric science"
      ],
      "metadata": {
        "id": "9MZoIY5nyXao"
      }
    },
    {
      "cell_type": "code",
      "execution_count": 1,
      "metadata": {
        "id": "LdAP7B_7gLWi"
      },
      "outputs": [],
      "source": [
        "import matplotlib.pyplot as plt\n",
        "import seaborn as sns\n",
        "import numpy as np\n",
        "import pandas as pd\n",
        "%matplotlib inline"
      ]
    },
    {
      "cell_type": "code",
      "source": [
        "df = pd.read_csv('Dataset.csv')"
      ],
      "metadata": {
        "id": "2sADRShzgy3z"
      },
      "execution_count": 2,
      "outputs": []
    },
    {
      "cell_type": "code",
      "source": [
        "df.head()"
      ],
      "metadata": {
        "colab": {
          "base_uri": "https://localhost:8080/",
          "height": 270
        },
        "id": "ukf_K5NGh-PS",
        "outputId": "d56af9ff-6eba-4ed2-fa6b-74ae2ace9a50"
      },
      "execution_count": 3,
      "outputs": [
        {
          "output_type": "execute_result",
          "data": {
            "text/plain": [
              "     COUNTY        DATE  TOTAL_CASES  NEW_CASES  TOTAL_CONFIRMED  \\\n",
              "0  Anderson  10/12/2022        26624          2            16211   \n",
              "1   Bedford  10/12/2022        17298          5            12508   \n",
              "2    Benton  10/12/2022         5424          0             3154   \n",
              "3   Bledsoe  10/12/2022         5220          0             3827   \n",
              "4    Blount  10/12/2022        46919          5            37075   \n",
              "\n",
              "   NEW_CONFIRMED  TOTAL_PROBABLE  NEW_PROBABLE  POS_TESTS  NEW_POS_TESTS  \\\n",
              "0              1           10413             1      17646              1   \n",
              "1              5            4790             0      13873              5   \n",
              "2              0            2270             0       3367              0   \n",
              "3              0            1393             0       4061              0   \n",
              "4              3            9844             2      39618              3   \n",
              "\n",
              "   NEG_TESTS  NEW_NEG_TESTS  TOTAL_TESTS  NEW_TESTS  NEW_DEATHS  TOTAL_DEATHS  \\\n",
              "0      94584              7       112230          8           0           381   \n",
              "1      53100             11        66973         16           0           246   \n",
              "2      15084              6        18451          6           0           101   \n",
              "3      24075              1        28136          1           0            63   \n",
              "4     138816             25       178434         28           0           502   \n",
              "\n",
              "   NEW_HOSPITALIZED  TOTAL_HOSPITALIZED  TOTAL_DEATHS_BY_DOD  \\\n",
              "0                 0                 385                  381   \n",
              "1                 0                 335                  246   \n",
              "2                 0                 129                  101   \n",
              "3                 0                 100                   63   \n",
              "4                 0                 963                  501   \n",
              "\n",
              "   NEW_DEATHS_BY_DOD  \n",
              "0                  0  \n",
              "1                  0  \n",
              "2                  0  \n",
              "3                  0  \n",
              "4                  0  "
            ],
            "text/html": [
              "\n",
              "  <div id=\"df-a4cafb60-d7ce-4caf-930e-2c728089c8ab\">\n",
              "    <div class=\"colab-df-container\">\n",
              "      <div>\n",
              "<style scoped>\n",
              "    .dataframe tbody tr th:only-of-type {\n",
              "        vertical-align: middle;\n",
              "    }\n",
              "\n",
              "    .dataframe tbody tr th {\n",
              "        vertical-align: top;\n",
              "    }\n",
              "\n",
              "    .dataframe thead th {\n",
              "        text-align: right;\n",
              "    }\n",
              "</style>\n",
              "<table border=\"1\" class=\"dataframe\">\n",
              "  <thead>\n",
              "    <tr style=\"text-align: right;\">\n",
              "      <th></th>\n",
              "      <th>COUNTY</th>\n",
              "      <th>DATE</th>\n",
              "      <th>TOTAL_CASES</th>\n",
              "      <th>NEW_CASES</th>\n",
              "      <th>TOTAL_CONFIRMED</th>\n",
              "      <th>NEW_CONFIRMED</th>\n",
              "      <th>TOTAL_PROBABLE</th>\n",
              "      <th>NEW_PROBABLE</th>\n",
              "      <th>POS_TESTS</th>\n",
              "      <th>NEW_POS_TESTS</th>\n",
              "      <th>NEG_TESTS</th>\n",
              "      <th>NEW_NEG_TESTS</th>\n",
              "      <th>TOTAL_TESTS</th>\n",
              "      <th>NEW_TESTS</th>\n",
              "      <th>NEW_DEATHS</th>\n",
              "      <th>TOTAL_DEATHS</th>\n",
              "      <th>NEW_HOSPITALIZED</th>\n",
              "      <th>TOTAL_HOSPITALIZED</th>\n",
              "      <th>TOTAL_DEATHS_BY_DOD</th>\n",
              "      <th>NEW_DEATHS_BY_DOD</th>\n",
              "    </tr>\n",
              "  </thead>\n",
              "  <tbody>\n",
              "    <tr>\n",
              "      <th>0</th>\n",
              "      <td>Anderson</td>\n",
              "      <td>10/12/2022</td>\n",
              "      <td>26624</td>\n",
              "      <td>2</td>\n",
              "      <td>16211</td>\n",
              "      <td>1</td>\n",
              "      <td>10413</td>\n",
              "      <td>1</td>\n",
              "      <td>17646</td>\n",
              "      <td>1</td>\n",
              "      <td>94584</td>\n",
              "      <td>7</td>\n",
              "      <td>112230</td>\n",
              "      <td>8</td>\n",
              "      <td>0</td>\n",
              "      <td>381</td>\n",
              "      <td>0</td>\n",
              "      <td>385</td>\n",
              "      <td>381</td>\n",
              "      <td>0</td>\n",
              "    </tr>\n",
              "    <tr>\n",
              "      <th>1</th>\n",
              "      <td>Bedford</td>\n",
              "      <td>10/12/2022</td>\n",
              "      <td>17298</td>\n",
              "      <td>5</td>\n",
              "      <td>12508</td>\n",
              "      <td>5</td>\n",
              "      <td>4790</td>\n",
              "      <td>0</td>\n",
              "      <td>13873</td>\n",
              "      <td>5</td>\n",
              "      <td>53100</td>\n",
              "      <td>11</td>\n",
              "      <td>66973</td>\n",
              "      <td>16</td>\n",
              "      <td>0</td>\n",
              "      <td>246</td>\n",
              "      <td>0</td>\n",
              "      <td>335</td>\n",
              "      <td>246</td>\n",
              "      <td>0</td>\n",
              "    </tr>\n",
              "    <tr>\n",
              "      <th>2</th>\n",
              "      <td>Benton</td>\n",
              "      <td>10/12/2022</td>\n",
              "      <td>5424</td>\n",
              "      <td>0</td>\n",
              "      <td>3154</td>\n",
              "      <td>0</td>\n",
              "      <td>2270</td>\n",
              "      <td>0</td>\n",
              "      <td>3367</td>\n",
              "      <td>0</td>\n",
              "      <td>15084</td>\n",
              "      <td>6</td>\n",
              "      <td>18451</td>\n",
              "      <td>6</td>\n",
              "      <td>0</td>\n",
              "      <td>101</td>\n",
              "      <td>0</td>\n",
              "      <td>129</td>\n",
              "      <td>101</td>\n",
              "      <td>0</td>\n",
              "    </tr>\n",
              "    <tr>\n",
              "      <th>3</th>\n",
              "      <td>Bledsoe</td>\n",
              "      <td>10/12/2022</td>\n",
              "      <td>5220</td>\n",
              "      <td>0</td>\n",
              "      <td>3827</td>\n",
              "      <td>0</td>\n",
              "      <td>1393</td>\n",
              "      <td>0</td>\n",
              "      <td>4061</td>\n",
              "      <td>0</td>\n",
              "      <td>24075</td>\n",
              "      <td>1</td>\n",
              "      <td>28136</td>\n",
              "      <td>1</td>\n",
              "      <td>0</td>\n",
              "      <td>63</td>\n",
              "      <td>0</td>\n",
              "      <td>100</td>\n",
              "      <td>63</td>\n",
              "      <td>0</td>\n",
              "    </tr>\n",
              "    <tr>\n",
              "      <th>4</th>\n",
              "      <td>Blount</td>\n",
              "      <td>10/12/2022</td>\n",
              "      <td>46919</td>\n",
              "      <td>5</td>\n",
              "      <td>37075</td>\n",
              "      <td>3</td>\n",
              "      <td>9844</td>\n",
              "      <td>2</td>\n",
              "      <td>39618</td>\n",
              "      <td>3</td>\n",
              "      <td>138816</td>\n",
              "      <td>25</td>\n",
              "      <td>178434</td>\n",
              "      <td>28</td>\n",
              "      <td>0</td>\n",
              "      <td>502</td>\n",
              "      <td>0</td>\n",
              "      <td>963</td>\n",
              "      <td>501</td>\n",
              "      <td>0</td>\n",
              "    </tr>\n",
              "  </tbody>\n",
              "</table>\n",
              "</div>\n",
              "      <button class=\"colab-df-convert\" onclick=\"convertToInteractive('df-a4cafb60-d7ce-4caf-930e-2c728089c8ab')\"\n",
              "              title=\"Convert this dataframe to an interactive table.\"\n",
              "              style=\"display:none;\">\n",
              "        \n",
              "  <svg xmlns=\"http://www.w3.org/2000/svg\" height=\"24px\"viewBox=\"0 0 24 24\"\n",
              "       width=\"24px\">\n",
              "    <path d=\"M0 0h24v24H0V0z\" fill=\"none\"/>\n",
              "    <path d=\"M18.56 5.44l.94 2.06.94-2.06 2.06-.94-2.06-.94-.94-2.06-.94 2.06-2.06.94zm-11 1L8.5 8.5l.94-2.06 2.06-.94-2.06-.94L8.5 2.5l-.94 2.06-2.06.94zm10 10l.94 2.06.94-2.06 2.06-.94-2.06-.94-.94-2.06-.94 2.06-2.06.94z\"/><path d=\"M17.41 7.96l-1.37-1.37c-.4-.4-.92-.59-1.43-.59-.52 0-1.04.2-1.43.59L10.3 9.45l-7.72 7.72c-.78.78-.78 2.05 0 2.83L4 21.41c.39.39.9.59 1.41.59.51 0 1.02-.2 1.41-.59l7.78-7.78 2.81-2.81c.8-.78.8-2.07 0-2.86zM5.41 20L4 18.59l7.72-7.72 1.47 1.35L5.41 20z\"/>\n",
              "  </svg>\n",
              "      </button>\n",
              "      \n",
              "  <style>\n",
              "    .colab-df-container {\n",
              "      display:flex;\n",
              "      flex-wrap:wrap;\n",
              "      gap: 12px;\n",
              "    }\n",
              "\n",
              "    .colab-df-convert {\n",
              "      background-color: #E8F0FE;\n",
              "      border: none;\n",
              "      border-radius: 50%;\n",
              "      cursor: pointer;\n",
              "      display: none;\n",
              "      fill: #1967D2;\n",
              "      height: 32px;\n",
              "      padding: 0 0 0 0;\n",
              "      width: 32px;\n",
              "    }\n",
              "\n",
              "    .colab-df-convert:hover {\n",
              "      background-color: #E2EBFA;\n",
              "      box-shadow: 0px 1px 2px rgba(60, 64, 67, 0.3), 0px 1px 3px 1px rgba(60, 64, 67, 0.15);\n",
              "      fill: #174EA6;\n",
              "    }\n",
              "\n",
              "    [theme=dark] .colab-df-convert {\n",
              "      background-color: #3B4455;\n",
              "      fill: #D2E3FC;\n",
              "    }\n",
              "\n",
              "    [theme=dark] .colab-df-convert:hover {\n",
              "      background-color: #434B5C;\n",
              "      box-shadow: 0px 1px 3px 1px rgba(0, 0, 0, 0.15);\n",
              "      filter: drop-shadow(0px 1px 2px rgba(0, 0, 0, 0.3));\n",
              "      fill: #FFFFFF;\n",
              "    }\n",
              "  </style>\n",
              "\n",
              "      <script>\n",
              "        const buttonEl =\n",
              "          document.querySelector('#df-a4cafb60-d7ce-4caf-930e-2c728089c8ab button.colab-df-convert');\n",
              "        buttonEl.style.display =\n",
              "          google.colab.kernel.accessAllowed ? 'block' : 'none';\n",
              "\n",
              "        async function convertToInteractive(key) {\n",
              "          const element = document.querySelector('#df-a4cafb60-d7ce-4caf-930e-2c728089c8ab');\n",
              "          const dataTable =\n",
              "            await google.colab.kernel.invokeFunction('convertToInteractive',\n",
              "                                                     [key], {});\n",
              "          if (!dataTable) return;\n",
              "\n",
              "          const docLinkHtml = 'Like what you see? Visit the ' +\n",
              "            '<a target=\"_blank\" href=https://colab.research.google.com/notebooks/data_table.ipynb>data table notebook</a>'\n",
              "            + ' to learn more about interactive tables.';\n",
              "          element.innerHTML = '';\n",
              "          dataTable['output_type'] = 'display_data';\n",
              "          await google.colab.output.renderOutput(dataTable, element);\n",
              "          const docLink = document.createElement('div');\n",
              "          docLink.innerHTML = docLinkHtml;\n",
              "          element.appendChild(docLink);\n",
              "        }\n",
              "      </script>\n",
              "    </div>\n",
              "  </div>\n",
              "  "
            ]
          },
          "metadata": {},
          "execution_count": 3
        }
      ]
    },
    {
      "cell_type": "code",
      "source": [
        "df.isnull().sum()"
      ],
      "metadata": {
        "colab": {
          "base_uri": "https://localhost:8080/"
        },
        "id": "-eyqznB0lG2L",
        "outputId": "03158609-d9fe-4bdf-d136-323e5d3fe423"
      },
      "execution_count": 4,
      "outputs": [
        {
          "output_type": "execute_result",
          "data": {
            "text/plain": [
              "COUNTY                 0\n",
              "DATE                   0\n",
              "TOTAL_CASES            0\n",
              "NEW_CASES              0\n",
              "TOTAL_CONFIRMED        0\n",
              "NEW_CONFIRMED          0\n",
              "TOTAL_PROBABLE         0\n",
              "NEW_PROBABLE           0\n",
              "POS_TESTS              0\n",
              "NEW_POS_TESTS          0\n",
              "NEG_TESTS              0\n",
              "NEW_NEG_TESTS          0\n",
              "TOTAL_TESTS            0\n",
              "NEW_TESTS              0\n",
              "NEW_DEATHS             0\n",
              "TOTAL_DEATHS           0\n",
              "NEW_HOSPITALIZED       0\n",
              "TOTAL_HOSPITALIZED     0\n",
              "TOTAL_DEATHS_BY_DOD    0\n",
              "NEW_DEATHS_BY_DOD      0\n",
              "dtype: int64"
            ]
          },
          "metadata": {},
          "execution_count": 4
        }
      ]
    },
    {
      "cell_type": "code",
      "source": [
        "def impute_nan(df,variable):\n",
        "    most_frequent_category=df[variable].mode()[0]\n",
        "    df[variable].fillna(most_frequent_category,inplace=True)"
      ],
      "metadata": {
        "id": "gLxIk_yEp9zr"
      },
      "execution_count": 5,
      "outputs": []
    },
    {
      "cell_type": "code",
      "source": [
        "for feature in ['TOTAL_PROBABLE','NEW_PROBABLE','POS_TESTS','NEW_POS_TESTS','NEG_TESTS','NEW_NEG_TESTS','TOTAL_TESTS','NEW_TESTS',\n",
        "'NEW_DEATHS', 'TOTAL_DEATHS' , 'NEW_HOSPITALIZED', 'TOTAL_HOSPITALIZED', 'TOTAL_DEATHS_BY_DOD', 'NEW_DEATHS_BY_DOD']:\n",
        "    impute_nan(df,feature)"
      ],
      "metadata": {
        "id": "xclCrnKXqA8d"
      },
      "execution_count": 6,
      "outputs": []
    },
    {
      "cell_type": "code",
      "source": [
        "df.isnull().mean()"
      ],
      "metadata": {
        "colab": {
          "base_uri": "https://localhost:8080/"
        },
        "id": "CZldvmiFq64w",
        "outputId": "b89c3c34-be86-485a-fbeb-299fc8b8ba4c"
      },
      "execution_count": 7,
      "outputs": [
        {
          "output_type": "execute_result",
          "data": {
            "text/plain": [
              "COUNTY                 0.0\n",
              "DATE                   0.0\n",
              "TOTAL_CASES            0.0\n",
              "NEW_CASES              0.0\n",
              "TOTAL_CONFIRMED        0.0\n",
              "NEW_CONFIRMED          0.0\n",
              "TOTAL_PROBABLE         0.0\n",
              "NEW_PROBABLE           0.0\n",
              "POS_TESTS              0.0\n",
              "NEW_POS_TESTS          0.0\n",
              "NEG_TESTS              0.0\n",
              "NEW_NEG_TESTS          0.0\n",
              "TOTAL_TESTS            0.0\n",
              "NEW_TESTS              0.0\n",
              "NEW_DEATHS             0.0\n",
              "TOTAL_DEATHS           0.0\n",
              "NEW_HOSPITALIZED       0.0\n",
              "TOTAL_HOSPITALIZED     0.0\n",
              "TOTAL_DEATHS_BY_DOD    0.0\n",
              "NEW_DEATHS_BY_DOD      0.0\n",
              "dtype: float64"
            ]
          },
          "metadata": {},
          "execution_count": 7
        }
      ]
    },
    {
      "cell_type": "code",
      "source": [
        "df.keys()"
      ],
      "metadata": {
        "colab": {
          "base_uri": "https://localhost:8080/"
        },
        "id": "nSYUW2tHig3x",
        "outputId": "6a1dca85-54a6-4289-a4c0-b173c5ae4894"
      },
      "execution_count": 8,
      "outputs": [
        {
          "output_type": "execute_result",
          "data": {
            "text/plain": [
              "Index(['COUNTY', 'DATE', 'TOTAL_CASES', 'NEW_CASES', 'TOTAL_CONFIRMED',\n",
              "       'NEW_CONFIRMED', 'TOTAL_PROBABLE', 'NEW_PROBABLE', 'POS_TESTS',\n",
              "       'NEW_POS_TESTS', 'NEG_TESTS', 'NEW_NEG_TESTS', 'TOTAL_TESTS',\n",
              "       'NEW_TESTS', 'NEW_DEATHS', 'TOTAL_DEATHS', 'NEW_HOSPITALIZED',\n",
              "       'TOTAL_HOSPITALIZED', 'TOTAL_DEATHS_BY_DOD', 'NEW_DEATHS_BY_DOD'],\n",
              "      dtype='object')"
            ]
          },
          "metadata": {},
          "execution_count": 8
        }
      ]
    },
    {
      "cell_type": "code",
      "source": [
        "print(df.describe)"
      ],
      "metadata": {
        "colab": {
          "base_uri": "https://localhost:8080/"
        },
        "id": "CICzKx-digvZ",
        "outputId": "3806d0cb-78ad-433a-c37d-6d9ad41e496b"
      },
      "execution_count": 9,
      "outputs": [
        {
          "output_type": "stream",
          "name": "stdout",
          "text": [
            "<bound method NDFrame.describe of            COUNTY        DATE  TOTAL_CASES  NEW_CASES  TOTAL_CONFIRMED  \\\n",
            "0        Anderson  10/12/2022        26624          2            16211   \n",
            "1         Bedford  10/12/2022        17298          5            12508   \n",
            "2          Benton  10/12/2022         5424          0             3154   \n",
            "3         Bledsoe  10/12/2022         5220          0             3827   \n",
            "4          Blount  10/12/2022        46919          5            37075   \n",
            "...           ...         ...          ...        ...              ...   \n",
            "97383       Wayne   12/3/2020            0          0                0   \n",
            "97384     Weakley   12/3/2020            0          0                0   \n",
            "97385       White   12/3/2020            0          0                0   \n",
            "97386  Williamson   12/3/2020            0          0                0   \n",
            "97387      Wilson   12/3/2020            0          0                0   \n",
            "\n",
            "       NEW_CONFIRMED  TOTAL_PROBABLE  NEW_PROBABLE  POS_TESTS  NEW_POS_TESTS  \\\n",
            "0                  1           10413             1      17646              1   \n",
            "1                  5            4790             0      13873              5   \n",
            "2                  0            2270             0       3367              0   \n",
            "3                  0            1393             0       4061              0   \n",
            "4                  3            9844             2      39618              3   \n",
            "...              ...             ...           ...        ...            ...   \n",
            "97383              0               0             0          0              0   \n",
            "97384              0               0             0          0              0   \n",
            "97385              0               0             0          0              0   \n",
            "97386              0               0             0          2              2   \n",
            "97387              0               0             0          0              0   \n",
            "\n",
            "       NEG_TESTS  NEW_NEG_TESTS  TOTAL_TESTS  NEW_TESTS  NEW_DEATHS  \\\n",
            "0          94584              7       112230          8           0   \n",
            "1          53100             11        66973         16           0   \n",
            "2          15084              6        18451          6           0   \n",
            "3          24075              1        28136          1           0   \n",
            "4         138816             25       178434         28           0   \n",
            "...          ...            ...          ...        ...         ...   \n",
            "97383          0              0            0          0           0   \n",
            "97384          0              0            0          0           0   \n",
            "97385          0              0            0          0           0   \n",
            "97386          3              3            5          5           0   \n",
            "97387          0              0            0          0           0   \n",
            "\n",
            "       TOTAL_DEATHS  NEW_HOSPITALIZED  TOTAL_HOSPITALIZED  \\\n",
            "0               381                 0                 385   \n",
            "1               246                 0                 335   \n",
            "2               101                 0                 129   \n",
            "3                63                 0                 100   \n",
            "4               502                 0                 963   \n",
            "...             ...               ...                 ...   \n",
            "97383             0                 0                   0   \n",
            "97384             0                 0                   0   \n",
            "97385             0                 0                   0   \n",
            "97386             0                 0                   0   \n",
            "97387             0                 0                   0   \n",
            "\n",
            "       TOTAL_DEATHS_BY_DOD  NEW_DEATHS_BY_DOD  \n",
            "0                      381                  0  \n",
            "1                      246                  0  \n",
            "2                      101                  0  \n",
            "3                       63                  0  \n",
            "4                      501                  0  \n",
            "...                    ...                ...  \n",
            "97383                    0                  0  \n",
            "97384                    0                  0  \n",
            "97385                    0                  0  \n",
            "97386                    0                  0  \n",
            "97387                    0                  0  \n",
            "\n",
            "[97388 rows x 20 columns]>\n"
          ]
        }
      ]
    },
    {
      "cell_type": "code",
      "source": [
        "numerical_lst=['int16','int32', 'int64', 'float16','float32','float64' ]\n",
        "numerical_cols= list(df.select_dtypes(include=numerical_lst).columns)"
      ],
      "metadata": {
        "id": "1XdiHzxNjsIQ"
      },
      "execution_count": 10,
      "outputs": []
    },
    {
      "cell_type": "code",
      "source": [
        "numerical_cols"
      ],
      "metadata": {
        "colab": {
          "base_uri": "https://localhost:8080/"
        },
        "id": "n8Ueh6Tcjr7B",
        "outputId": "4c6c9a6c-e77e-4cf4-987c-572f65c12d19"
      },
      "execution_count": 11,
      "outputs": [
        {
          "output_type": "execute_result",
          "data": {
            "text/plain": [
              "['TOTAL_CASES',\n",
              " 'NEW_CASES',\n",
              " 'TOTAL_CONFIRMED',\n",
              " 'NEW_CONFIRMED',\n",
              " 'TOTAL_PROBABLE',\n",
              " 'NEW_PROBABLE',\n",
              " 'POS_TESTS',\n",
              " 'NEW_POS_TESTS',\n",
              " 'NEG_TESTS',\n",
              " 'NEW_NEG_TESTS',\n",
              " 'TOTAL_TESTS',\n",
              " 'NEW_TESTS',\n",
              " 'NEW_DEATHS',\n",
              " 'TOTAL_DEATHS',\n",
              " 'NEW_HOSPITALIZED',\n",
              " 'TOTAL_HOSPITALIZED',\n",
              " 'TOTAL_DEATHS_BY_DOD',\n",
              " 'NEW_DEATHS_BY_DOD']"
            ]
          },
          "metadata": {},
          "execution_count": 11
        }
      ]
    },
    {
      "cell_type": "code",
      "source": [
        "df=df[numerical_cols]\n",
        "df.head()"
      ],
      "metadata": {
        "colab": {
          "base_uri": "https://localhost:8080/",
          "height": 270
        },
        "id": "0XuvJ7tCigrh",
        "outputId": "36d4a832-ad9d-47df-b7fa-603c9f5f313c"
      },
      "execution_count": 12,
      "outputs": [
        {
          "output_type": "execute_result",
          "data": {
            "text/plain": [
              "   TOTAL_CASES  NEW_CASES  TOTAL_CONFIRMED  NEW_CONFIRMED  TOTAL_PROBABLE  \\\n",
              "0        26624          2            16211              1           10413   \n",
              "1        17298          5            12508              5            4790   \n",
              "2         5424          0             3154              0            2270   \n",
              "3         5220          0             3827              0            1393   \n",
              "4        46919          5            37075              3            9844   \n",
              "\n",
              "   NEW_PROBABLE  POS_TESTS  NEW_POS_TESTS  NEG_TESTS  NEW_NEG_TESTS  \\\n",
              "0             1      17646              1      94584              7   \n",
              "1             0      13873              5      53100             11   \n",
              "2             0       3367              0      15084              6   \n",
              "3             0       4061              0      24075              1   \n",
              "4             2      39618              3     138816             25   \n",
              "\n",
              "   TOTAL_TESTS  NEW_TESTS  NEW_DEATHS  TOTAL_DEATHS  NEW_HOSPITALIZED  \\\n",
              "0       112230          8           0           381                 0   \n",
              "1        66973         16           0           246                 0   \n",
              "2        18451          6           0           101                 0   \n",
              "3        28136          1           0            63                 0   \n",
              "4       178434         28           0           502                 0   \n",
              "\n",
              "   TOTAL_HOSPITALIZED  TOTAL_DEATHS_BY_DOD  NEW_DEATHS_BY_DOD  \n",
              "0                 385                  381                  0  \n",
              "1                 335                  246                  0  \n",
              "2                 129                  101                  0  \n",
              "3                 100                   63                  0  \n",
              "4                 963                  501                  0  "
            ],
            "text/html": [
              "\n",
              "  <div id=\"df-c9916c03-91f2-4db4-9cee-a7891bd9591f\">\n",
              "    <div class=\"colab-df-container\">\n",
              "      <div>\n",
              "<style scoped>\n",
              "    .dataframe tbody tr th:only-of-type {\n",
              "        vertical-align: middle;\n",
              "    }\n",
              "\n",
              "    .dataframe tbody tr th {\n",
              "        vertical-align: top;\n",
              "    }\n",
              "\n",
              "    .dataframe thead th {\n",
              "        text-align: right;\n",
              "    }\n",
              "</style>\n",
              "<table border=\"1\" class=\"dataframe\">\n",
              "  <thead>\n",
              "    <tr style=\"text-align: right;\">\n",
              "      <th></th>\n",
              "      <th>TOTAL_CASES</th>\n",
              "      <th>NEW_CASES</th>\n",
              "      <th>TOTAL_CONFIRMED</th>\n",
              "      <th>NEW_CONFIRMED</th>\n",
              "      <th>TOTAL_PROBABLE</th>\n",
              "      <th>NEW_PROBABLE</th>\n",
              "      <th>POS_TESTS</th>\n",
              "      <th>NEW_POS_TESTS</th>\n",
              "      <th>NEG_TESTS</th>\n",
              "      <th>NEW_NEG_TESTS</th>\n",
              "      <th>TOTAL_TESTS</th>\n",
              "      <th>NEW_TESTS</th>\n",
              "      <th>NEW_DEATHS</th>\n",
              "      <th>TOTAL_DEATHS</th>\n",
              "      <th>NEW_HOSPITALIZED</th>\n",
              "      <th>TOTAL_HOSPITALIZED</th>\n",
              "      <th>TOTAL_DEATHS_BY_DOD</th>\n",
              "      <th>NEW_DEATHS_BY_DOD</th>\n",
              "    </tr>\n",
              "  </thead>\n",
              "  <tbody>\n",
              "    <tr>\n",
              "      <th>0</th>\n",
              "      <td>26624</td>\n",
              "      <td>2</td>\n",
              "      <td>16211</td>\n",
              "      <td>1</td>\n",
              "      <td>10413</td>\n",
              "      <td>1</td>\n",
              "      <td>17646</td>\n",
              "      <td>1</td>\n",
              "      <td>94584</td>\n",
              "      <td>7</td>\n",
              "      <td>112230</td>\n",
              "      <td>8</td>\n",
              "      <td>0</td>\n",
              "      <td>381</td>\n",
              "      <td>0</td>\n",
              "      <td>385</td>\n",
              "      <td>381</td>\n",
              "      <td>0</td>\n",
              "    </tr>\n",
              "    <tr>\n",
              "      <th>1</th>\n",
              "      <td>17298</td>\n",
              "      <td>5</td>\n",
              "      <td>12508</td>\n",
              "      <td>5</td>\n",
              "      <td>4790</td>\n",
              "      <td>0</td>\n",
              "      <td>13873</td>\n",
              "      <td>5</td>\n",
              "      <td>53100</td>\n",
              "      <td>11</td>\n",
              "      <td>66973</td>\n",
              "      <td>16</td>\n",
              "      <td>0</td>\n",
              "      <td>246</td>\n",
              "      <td>0</td>\n",
              "      <td>335</td>\n",
              "      <td>246</td>\n",
              "      <td>0</td>\n",
              "    </tr>\n",
              "    <tr>\n",
              "      <th>2</th>\n",
              "      <td>5424</td>\n",
              "      <td>0</td>\n",
              "      <td>3154</td>\n",
              "      <td>0</td>\n",
              "      <td>2270</td>\n",
              "      <td>0</td>\n",
              "      <td>3367</td>\n",
              "      <td>0</td>\n",
              "      <td>15084</td>\n",
              "      <td>6</td>\n",
              "      <td>18451</td>\n",
              "      <td>6</td>\n",
              "      <td>0</td>\n",
              "      <td>101</td>\n",
              "      <td>0</td>\n",
              "      <td>129</td>\n",
              "      <td>101</td>\n",
              "      <td>0</td>\n",
              "    </tr>\n",
              "    <tr>\n",
              "      <th>3</th>\n",
              "      <td>5220</td>\n",
              "      <td>0</td>\n",
              "      <td>3827</td>\n",
              "      <td>0</td>\n",
              "      <td>1393</td>\n",
              "      <td>0</td>\n",
              "      <td>4061</td>\n",
              "      <td>0</td>\n",
              "      <td>24075</td>\n",
              "      <td>1</td>\n",
              "      <td>28136</td>\n",
              "      <td>1</td>\n",
              "      <td>0</td>\n",
              "      <td>63</td>\n",
              "      <td>0</td>\n",
              "      <td>100</td>\n",
              "      <td>63</td>\n",
              "      <td>0</td>\n",
              "    </tr>\n",
              "    <tr>\n",
              "      <th>4</th>\n",
              "      <td>46919</td>\n",
              "      <td>5</td>\n",
              "      <td>37075</td>\n",
              "      <td>3</td>\n",
              "      <td>9844</td>\n",
              "      <td>2</td>\n",
              "      <td>39618</td>\n",
              "      <td>3</td>\n",
              "      <td>138816</td>\n",
              "      <td>25</td>\n",
              "      <td>178434</td>\n",
              "      <td>28</td>\n",
              "      <td>0</td>\n",
              "      <td>502</td>\n",
              "      <td>0</td>\n",
              "      <td>963</td>\n",
              "      <td>501</td>\n",
              "      <td>0</td>\n",
              "    </tr>\n",
              "  </tbody>\n",
              "</table>\n",
              "</div>\n",
              "      <button class=\"colab-df-convert\" onclick=\"convertToInteractive('df-c9916c03-91f2-4db4-9cee-a7891bd9591f')\"\n",
              "              title=\"Convert this dataframe to an interactive table.\"\n",
              "              style=\"display:none;\">\n",
              "        \n",
              "  <svg xmlns=\"http://www.w3.org/2000/svg\" height=\"24px\"viewBox=\"0 0 24 24\"\n",
              "       width=\"24px\">\n",
              "    <path d=\"M0 0h24v24H0V0z\" fill=\"none\"/>\n",
              "    <path d=\"M18.56 5.44l.94 2.06.94-2.06 2.06-.94-2.06-.94-.94-2.06-.94 2.06-2.06.94zm-11 1L8.5 8.5l.94-2.06 2.06-.94-2.06-.94L8.5 2.5l-.94 2.06-2.06.94zm10 10l.94 2.06.94-2.06 2.06-.94-2.06-.94-.94-2.06-.94 2.06-2.06.94z\"/><path d=\"M17.41 7.96l-1.37-1.37c-.4-.4-.92-.59-1.43-.59-.52 0-1.04.2-1.43.59L10.3 9.45l-7.72 7.72c-.78.78-.78 2.05 0 2.83L4 21.41c.39.39.9.59 1.41.59.51 0 1.02-.2 1.41-.59l7.78-7.78 2.81-2.81c.8-.78.8-2.07 0-2.86zM5.41 20L4 18.59l7.72-7.72 1.47 1.35L5.41 20z\"/>\n",
              "  </svg>\n",
              "      </button>\n",
              "      \n",
              "  <style>\n",
              "    .colab-df-container {\n",
              "      display:flex;\n",
              "      flex-wrap:wrap;\n",
              "      gap: 12px;\n",
              "    }\n",
              "\n",
              "    .colab-df-convert {\n",
              "      background-color: #E8F0FE;\n",
              "      border: none;\n",
              "      border-radius: 50%;\n",
              "      cursor: pointer;\n",
              "      display: none;\n",
              "      fill: #1967D2;\n",
              "      height: 32px;\n",
              "      padding: 0 0 0 0;\n",
              "      width: 32px;\n",
              "    }\n",
              "\n",
              "    .colab-df-convert:hover {\n",
              "      background-color: #E2EBFA;\n",
              "      box-shadow: 0px 1px 2px rgba(60, 64, 67, 0.3), 0px 1px 3px 1px rgba(60, 64, 67, 0.15);\n",
              "      fill: #174EA6;\n",
              "    }\n",
              "\n",
              "    [theme=dark] .colab-df-convert {\n",
              "      background-color: #3B4455;\n",
              "      fill: #D2E3FC;\n",
              "    }\n",
              "\n",
              "    [theme=dark] .colab-df-convert:hover {\n",
              "      background-color: #434B5C;\n",
              "      box-shadow: 0px 1px 3px 1px rgba(0, 0, 0, 0.15);\n",
              "      filter: drop-shadow(0px 1px 2px rgba(0, 0, 0, 0.3));\n",
              "      fill: #FFFFFF;\n",
              "    }\n",
              "  </style>\n",
              "\n",
              "      <script>\n",
              "        const buttonEl =\n",
              "          document.querySelector('#df-c9916c03-91f2-4db4-9cee-a7891bd9591f button.colab-df-convert');\n",
              "        buttonEl.style.display =\n",
              "          google.colab.kernel.accessAllowed ? 'block' : 'none';\n",
              "\n",
              "        async function convertToInteractive(key) {\n",
              "          const element = document.querySelector('#df-c9916c03-91f2-4db4-9cee-a7891bd9591f');\n",
              "          const dataTable =\n",
              "            await google.colab.kernel.invokeFunction('convertToInteractive',\n",
              "                                                     [key], {});\n",
              "          if (!dataTable) return;\n",
              "\n",
              "          const docLinkHtml = 'Like what you see? Visit the ' +\n",
              "            '<a target=\"_blank\" href=https://colab.research.google.com/notebooks/data_table.ipynb>data table notebook</a>'\n",
              "            + ' to learn more about interactive tables.';\n",
              "          element.innerHTML = '';\n",
              "          dataTable['output_type'] = 'display_data';\n",
              "          await google.colab.output.renderOutput(dataTable, element);\n",
              "          const docLink = document.createElement('div');\n",
              "          docLink.innerHTML = docLinkHtml;\n",
              "          element.appendChild(docLink);\n",
              "        }\n",
              "      </script>\n",
              "    </div>\n",
              "  </div>\n",
              "  "
            ]
          },
          "metadata": {},
          "execution_count": 12
        }
      ]
    },
    {
      "cell_type": "code",
      "source": [
        "### It is always a good practice to split train and test data to avoid\n",
        "#overfitting\n",
        "from sklearn.model_selection import train_test_split\n",
        "X_train,X_test,y_train,y_test=train_test_split(df.drop(labels=['NEW_CASES'], axis=1),\n",
        "    df['NEW_CASES'],\n",
        "    test_size=0.3,\n",
        "    random_state=0)"
      ],
      "metadata": {
        "id": "UpGZybxClU9R"
      },
      "execution_count": 23,
      "outputs": []
    },
    {
      "cell_type": "code",
      "source": [
        "X_train"
      ],
      "metadata": {
        "colab": {
          "base_uri": "https://localhost:8080/",
          "height": 488
        },
        "id": "6aLfc5FWlU6T",
        "outputId": "f5f188f2-36f8-4df6-ac5f-0e94ca153730"
      },
      "execution_count": 24,
      "outputs": [
        {
          "output_type": "execute_result",
          "data": {
            "text/plain": [
              "       TOTAL_CASES  TOTAL_CONFIRMED  NEW_CONFIRMED  TOTAL_PROBABLE  \\\n",
              "74166         1873             1823             22              50   \n",
              "63411          750              499              0             251   \n",
              "43287         7431             6020             15            1411   \n",
              "45024         2956             1662              6            1294   \n",
              "86573          138              138             14               0   \n",
              "...            ...              ...            ...             ...   \n",
              "21243        22301            14241              6            8060   \n",
              "45891         5286             3925             10            1361   \n",
              "42613         2658             2186              7             472   \n",
              "43567         6591             3959             21            2632   \n",
              "68268         2370             1447             12             923   \n",
              "\n",
              "       NEW_PROBABLE  POS_TESTS  NEW_POS_TESTS  NEG_TESTS  NEW_NEG_TESTS  \\\n",
              "74166             1       2135             22      22375            107   \n",
              "63411             0        598              0       3415             25   \n",
              "43287            18       6907             15      40988             60   \n",
              "45024            11       1872              8       8411             20   \n",
              "86573             0        166             24       2902             54   \n",
              "...             ...        ...            ...        ...            ...   \n",
              "21243             2      15565              6      88926             18   \n",
              "45891            10       4367             13      28576             67   \n",
              "42613             6       2469              5      10688              2   \n",
              "43567            14       4364             29      25107             86   \n",
              "68268            14       1540             13       9482             22   \n",
              "\n",
              "       TOTAL_TESTS  NEW_TESTS  NEW_DEATHS  TOTAL_DEATHS  NEW_HOSPITALIZED  \\\n",
              "74166        24510        129           0            41                 0   \n",
              "63411         4013         25           0            23                 0   \n",
              "43287        47895         75           0            94                 3   \n",
              "45024        10283         28           0            54                 1   \n",
              "86573         3068         78           0             5                 1   \n",
              "...            ...        ...         ...           ...               ...   \n",
              "21243       104491         24           0           334                 0   \n",
              "45891        32943         80           0            56                 0   \n",
              "42613        13157          7           1            37                 0   \n",
              "43567        29471        115           0           103                 0   \n",
              "68268        11022         35           1            26                 0   \n",
              "\n",
              "       TOTAL_HOSPITALIZED  TOTAL_DEATHS_BY_DOD  NEW_DEATHS_BY_DOD  \n",
              "74166                 105                   50                  0  \n",
              "63411                  57                   23                  0  \n",
              "43287                 158                  115                  1  \n",
              "45024                  47                   63                  0  \n",
              "86573                  18                    6                  0  \n",
              "...                   ...                  ...                ...  \n",
              "21243                 378                  341                  0  \n",
              "45891                 156                   62                  0  \n",
              "42613                  98                   51                  0  \n",
              "43567                 143                  133                  1  \n",
              "68268                  59                   35                  2  \n",
              "\n",
              "[68171 rows x 17 columns]"
            ],
            "text/html": [
              "\n",
              "  <div id=\"df-5e0ce423-2f5a-4d13-b98e-f035afa0b801\">\n",
              "    <div class=\"colab-df-container\">\n",
              "      <div>\n",
              "<style scoped>\n",
              "    .dataframe tbody tr th:only-of-type {\n",
              "        vertical-align: middle;\n",
              "    }\n",
              "\n",
              "    .dataframe tbody tr th {\n",
              "        vertical-align: top;\n",
              "    }\n",
              "\n",
              "    .dataframe thead th {\n",
              "        text-align: right;\n",
              "    }\n",
              "</style>\n",
              "<table border=\"1\" class=\"dataframe\">\n",
              "  <thead>\n",
              "    <tr style=\"text-align: right;\">\n",
              "      <th></th>\n",
              "      <th>TOTAL_CASES</th>\n",
              "      <th>TOTAL_CONFIRMED</th>\n",
              "      <th>NEW_CONFIRMED</th>\n",
              "      <th>TOTAL_PROBABLE</th>\n",
              "      <th>NEW_PROBABLE</th>\n",
              "      <th>POS_TESTS</th>\n",
              "      <th>NEW_POS_TESTS</th>\n",
              "      <th>NEG_TESTS</th>\n",
              "      <th>NEW_NEG_TESTS</th>\n",
              "      <th>TOTAL_TESTS</th>\n",
              "      <th>NEW_TESTS</th>\n",
              "      <th>NEW_DEATHS</th>\n",
              "      <th>TOTAL_DEATHS</th>\n",
              "      <th>NEW_HOSPITALIZED</th>\n",
              "      <th>TOTAL_HOSPITALIZED</th>\n",
              "      <th>TOTAL_DEATHS_BY_DOD</th>\n",
              "      <th>NEW_DEATHS_BY_DOD</th>\n",
              "    </tr>\n",
              "  </thead>\n",
              "  <tbody>\n",
              "    <tr>\n",
              "      <th>74166</th>\n",
              "      <td>1873</td>\n",
              "      <td>1823</td>\n",
              "      <td>22</td>\n",
              "      <td>50</td>\n",
              "      <td>1</td>\n",
              "      <td>2135</td>\n",
              "      <td>22</td>\n",
              "      <td>22375</td>\n",
              "      <td>107</td>\n",
              "      <td>24510</td>\n",
              "      <td>129</td>\n",
              "      <td>0</td>\n",
              "      <td>41</td>\n",
              "      <td>0</td>\n",
              "      <td>105</td>\n",
              "      <td>50</td>\n",
              "      <td>0</td>\n",
              "    </tr>\n",
              "    <tr>\n",
              "      <th>63411</th>\n",
              "      <td>750</td>\n",
              "      <td>499</td>\n",
              "      <td>0</td>\n",
              "      <td>251</td>\n",
              "      <td>0</td>\n",
              "      <td>598</td>\n",
              "      <td>0</td>\n",
              "      <td>3415</td>\n",
              "      <td>25</td>\n",
              "      <td>4013</td>\n",
              "      <td>25</td>\n",
              "      <td>0</td>\n",
              "      <td>23</td>\n",
              "      <td>0</td>\n",
              "      <td>57</td>\n",
              "      <td>23</td>\n",
              "      <td>0</td>\n",
              "    </tr>\n",
              "    <tr>\n",
              "      <th>43287</th>\n",
              "      <td>7431</td>\n",
              "      <td>6020</td>\n",
              "      <td>15</td>\n",
              "      <td>1411</td>\n",
              "      <td>18</td>\n",
              "      <td>6907</td>\n",
              "      <td>15</td>\n",
              "      <td>40988</td>\n",
              "      <td>60</td>\n",
              "      <td>47895</td>\n",
              "      <td>75</td>\n",
              "      <td>0</td>\n",
              "      <td>94</td>\n",
              "      <td>3</td>\n",
              "      <td>158</td>\n",
              "      <td>115</td>\n",
              "      <td>1</td>\n",
              "    </tr>\n",
              "    <tr>\n",
              "      <th>45024</th>\n",
              "      <td>2956</td>\n",
              "      <td>1662</td>\n",
              "      <td>6</td>\n",
              "      <td>1294</td>\n",
              "      <td>11</td>\n",
              "      <td>1872</td>\n",
              "      <td>8</td>\n",
              "      <td>8411</td>\n",
              "      <td>20</td>\n",
              "      <td>10283</td>\n",
              "      <td>28</td>\n",
              "      <td>0</td>\n",
              "      <td>54</td>\n",
              "      <td>1</td>\n",
              "      <td>47</td>\n",
              "      <td>63</td>\n",
              "      <td>0</td>\n",
              "    </tr>\n",
              "    <tr>\n",
              "      <th>86573</th>\n",
              "      <td>138</td>\n",
              "      <td>138</td>\n",
              "      <td>14</td>\n",
              "      <td>0</td>\n",
              "      <td>0</td>\n",
              "      <td>166</td>\n",
              "      <td>24</td>\n",
              "      <td>2902</td>\n",
              "      <td>54</td>\n",
              "      <td>3068</td>\n",
              "      <td>78</td>\n",
              "      <td>0</td>\n",
              "      <td>5</td>\n",
              "      <td>1</td>\n",
              "      <td>18</td>\n",
              "      <td>6</td>\n",
              "      <td>0</td>\n",
              "    </tr>\n",
              "    <tr>\n",
              "      <th>...</th>\n",
              "      <td>...</td>\n",
              "      <td>...</td>\n",
              "      <td>...</td>\n",
              "      <td>...</td>\n",
              "      <td>...</td>\n",
              "      <td>...</td>\n",
              "      <td>...</td>\n",
              "      <td>...</td>\n",
              "      <td>...</td>\n",
              "      <td>...</td>\n",
              "      <td>...</td>\n",
              "      <td>...</td>\n",
              "      <td>...</td>\n",
              "      <td>...</td>\n",
              "      <td>...</td>\n",
              "      <td>...</td>\n",
              "      <td>...</td>\n",
              "    </tr>\n",
              "    <tr>\n",
              "      <th>21243</th>\n",
              "      <td>22301</td>\n",
              "      <td>14241</td>\n",
              "      <td>6</td>\n",
              "      <td>8060</td>\n",
              "      <td>2</td>\n",
              "      <td>15565</td>\n",
              "      <td>6</td>\n",
              "      <td>88926</td>\n",
              "      <td>18</td>\n",
              "      <td>104491</td>\n",
              "      <td>24</td>\n",
              "      <td>0</td>\n",
              "      <td>334</td>\n",
              "      <td>0</td>\n",
              "      <td>378</td>\n",
              "      <td>341</td>\n",
              "      <td>0</td>\n",
              "    </tr>\n",
              "    <tr>\n",
              "      <th>45891</th>\n",
              "      <td>5286</td>\n",
              "      <td>3925</td>\n",
              "      <td>10</td>\n",
              "      <td>1361</td>\n",
              "      <td>10</td>\n",
              "      <td>4367</td>\n",
              "      <td>13</td>\n",
              "      <td>28576</td>\n",
              "      <td>67</td>\n",
              "      <td>32943</td>\n",
              "      <td>80</td>\n",
              "      <td>0</td>\n",
              "      <td>56</td>\n",
              "      <td>0</td>\n",
              "      <td>156</td>\n",
              "      <td>62</td>\n",
              "      <td>0</td>\n",
              "    </tr>\n",
              "    <tr>\n",
              "      <th>42613</th>\n",
              "      <td>2658</td>\n",
              "      <td>2186</td>\n",
              "      <td>7</td>\n",
              "      <td>472</td>\n",
              "      <td>6</td>\n",
              "      <td>2469</td>\n",
              "      <td>5</td>\n",
              "      <td>10688</td>\n",
              "      <td>2</td>\n",
              "      <td>13157</td>\n",
              "      <td>7</td>\n",
              "      <td>1</td>\n",
              "      <td>37</td>\n",
              "      <td>0</td>\n",
              "      <td>98</td>\n",
              "      <td>51</td>\n",
              "      <td>0</td>\n",
              "    </tr>\n",
              "    <tr>\n",
              "      <th>43567</th>\n",
              "      <td>6591</td>\n",
              "      <td>3959</td>\n",
              "      <td>21</td>\n",
              "      <td>2632</td>\n",
              "      <td>14</td>\n",
              "      <td>4364</td>\n",
              "      <td>29</td>\n",
              "      <td>25107</td>\n",
              "      <td>86</td>\n",
              "      <td>29471</td>\n",
              "      <td>115</td>\n",
              "      <td>0</td>\n",
              "      <td>103</td>\n",
              "      <td>0</td>\n",
              "      <td>143</td>\n",
              "      <td>133</td>\n",
              "      <td>1</td>\n",
              "    </tr>\n",
              "    <tr>\n",
              "      <th>68268</th>\n",
              "      <td>2370</td>\n",
              "      <td>1447</td>\n",
              "      <td>12</td>\n",
              "      <td>923</td>\n",
              "      <td>14</td>\n",
              "      <td>1540</td>\n",
              "      <td>13</td>\n",
              "      <td>9482</td>\n",
              "      <td>22</td>\n",
              "      <td>11022</td>\n",
              "      <td>35</td>\n",
              "      <td>1</td>\n",
              "      <td>26</td>\n",
              "      <td>0</td>\n",
              "      <td>59</td>\n",
              "      <td>35</td>\n",
              "      <td>2</td>\n",
              "    </tr>\n",
              "  </tbody>\n",
              "</table>\n",
              "<p>68171 rows × 17 columns</p>\n",
              "</div>\n",
              "      <button class=\"colab-df-convert\" onclick=\"convertToInteractive('df-5e0ce423-2f5a-4d13-b98e-f035afa0b801')\"\n",
              "              title=\"Convert this dataframe to an interactive table.\"\n",
              "              style=\"display:none;\">\n",
              "        \n",
              "  <svg xmlns=\"http://www.w3.org/2000/svg\" height=\"24px\"viewBox=\"0 0 24 24\"\n",
              "       width=\"24px\">\n",
              "    <path d=\"M0 0h24v24H0V0z\" fill=\"none\"/>\n",
              "    <path d=\"M18.56 5.44l.94 2.06.94-2.06 2.06-.94-2.06-.94-.94-2.06-.94 2.06-2.06.94zm-11 1L8.5 8.5l.94-2.06 2.06-.94-2.06-.94L8.5 2.5l-.94 2.06-2.06.94zm10 10l.94 2.06.94-2.06 2.06-.94-2.06-.94-.94-2.06-.94 2.06-2.06.94z\"/><path d=\"M17.41 7.96l-1.37-1.37c-.4-.4-.92-.59-1.43-.59-.52 0-1.04.2-1.43.59L10.3 9.45l-7.72 7.72c-.78.78-.78 2.05 0 2.83L4 21.41c.39.39.9.59 1.41.59.51 0 1.02-.2 1.41-.59l7.78-7.78 2.81-2.81c.8-.78.8-2.07 0-2.86zM5.41 20L4 18.59l7.72-7.72 1.47 1.35L5.41 20z\"/>\n",
              "  </svg>\n",
              "      </button>\n",
              "      \n",
              "  <style>\n",
              "    .colab-df-container {\n",
              "      display:flex;\n",
              "      flex-wrap:wrap;\n",
              "      gap: 12px;\n",
              "    }\n",
              "\n",
              "    .colab-df-convert {\n",
              "      background-color: #E8F0FE;\n",
              "      border: none;\n",
              "      border-radius: 50%;\n",
              "      cursor: pointer;\n",
              "      display: none;\n",
              "      fill: #1967D2;\n",
              "      height: 32px;\n",
              "      padding: 0 0 0 0;\n",
              "      width: 32px;\n",
              "    }\n",
              "\n",
              "    .colab-df-convert:hover {\n",
              "      background-color: #E2EBFA;\n",
              "      box-shadow: 0px 1px 2px rgba(60, 64, 67, 0.3), 0px 1px 3px 1px rgba(60, 64, 67, 0.15);\n",
              "      fill: #174EA6;\n",
              "    }\n",
              "\n",
              "    [theme=dark] .colab-df-convert {\n",
              "      background-color: #3B4455;\n",
              "      fill: #D2E3FC;\n",
              "    }\n",
              "\n",
              "    [theme=dark] .colab-df-convert:hover {\n",
              "      background-color: #434B5C;\n",
              "      box-shadow: 0px 1px 3px 1px rgba(0, 0, 0, 0.15);\n",
              "      filter: drop-shadow(0px 1px 2px rgba(0, 0, 0, 0.3));\n",
              "      fill: #FFFFFF;\n",
              "    }\n",
              "  </style>\n",
              "\n",
              "      <script>\n",
              "        const buttonEl =\n",
              "          document.querySelector('#df-5e0ce423-2f5a-4d13-b98e-f035afa0b801 button.colab-df-convert');\n",
              "        buttonEl.style.display =\n",
              "          google.colab.kernel.accessAllowed ? 'block' : 'none';\n",
              "\n",
              "        async function convertToInteractive(key) {\n",
              "          const element = document.querySelector('#df-5e0ce423-2f5a-4d13-b98e-f035afa0b801');\n",
              "          const dataTable =\n",
              "            await google.colab.kernel.invokeFunction('convertToInteractive',\n",
              "                                                     [key], {});\n",
              "          if (!dataTable) return;\n",
              "\n",
              "          const docLinkHtml = 'Like what you see? Visit the ' +\n",
              "            '<a target=\"_blank\" href=https://colab.research.google.com/notebooks/data_table.ipynb>data table notebook</a>'\n",
              "            + ' to learn more about interactive tables.';\n",
              "          element.innerHTML = '';\n",
              "          dataTable['output_type'] = 'display_data';\n",
              "          await google.colab.output.renderOutput(dataTable, element);\n",
              "          const docLink = document.createElement('div');\n",
              "          docLink.innerHTML = docLinkHtml;\n",
              "          element.appendChild(docLink);\n",
              "        }\n",
              "      </script>\n",
              "    </div>\n",
              "  </div>\n",
              "  "
            ]
          },
          "metadata": {},
          "execution_count": 24
        }
      ]
    },
    {
      "cell_type": "code",
      "source": [
        "X_train.isnull().sum()"
      ],
      "metadata": {
        "colab": {
          "base_uri": "https://localhost:8080/"
        },
        "id": "EOsNH7kBlU34",
        "outputId": "0c09fcad-2ac2-41b0-d182-666d2a506ae6"
      },
      "execution_count": 25,
      "outputs": [
        {
          "output_type": "execute_result",
          "data": {
            "text/plain": [
              "TOTAL_CASES            0\n",
              "TOTAL_CONFIRMED        0\n",
              "NEW_CONFIRMED          0\n",
              "TOTAL_PROBABLE         0\n",
              "NEW_PROBABLE           0\n",
              "POS_TESTS              0\n",
              "NEW_POS_TESTS          0\n",
              "NEG_TESTS              0\n",
              "NEW_NEG_TESTS          0\n",
              "TOTAL_TESTS            0\n",
              "NEW_TESTS              0\n",
              "NEW_DEATHS             0\n",
              "TOTAL_DEATHS           0\n",
              "NEW_HOSPITALIZED       0\n",
              "TOTAL_HOSPITALIZED     0\n",
              "TOTAL_DEATHS_BY_DOD    0\n",
              "NEW_DEATHS_BY_DOD      0\n",
              "dtype: int64"
            ]
          },
          "metadata": {},
          "execution_count": 25
        }
      ]
    },
    {
      "cell_type": "code",
      "source": [
        "from sklearn.feature_selection import mutual_info_regression\n",
        "# determine the mutual information\n",
        "mutual_info = mutual_info_regression(X_train, y_train)\n",
        "mutual_info"
      ],
      "metadata": {
        "colab": {
          "base_uri": "https://localhost:8080/"
        },
        "id": "xQDmBM_5lUyL",
        "outputId": "5da59c13-0556-48c2-e272-6ab1bec3678b"
      },
      "execution_count": 26,
      "outputs": [
        {
          "output_type": "execute_result",
          "data": {
            "text/plain": [
              "array([0.10037711, 0.09764282, 0.24042783, 0.08211707, 0.21505665,\n",
              "       0.09642036, 0.22831002, 0.07841443, 0.08606131, 0.08455187,\n",
              "       0.10665272, 0.04270963, 0.08620957, 0.13060549, 0.09200215,\n",
              "       0.08998642, 0.12266126])"
            ]
          },
          "metadata": {},
          "execution_count": 26
        }
      ]
    },
    {
      "cell_type": "code",
      "source": [
        "mutual_info = pd.Series(mutual_info)\n",
        "mutual_info.index = X_train.columns\n",
        "mutual_info.sort_values(ascending=False)"
      ],
      "metadata": {
        "colab": {
          "base_uri": "https://localhost:8080/"
        },
        "id": "cRitpisRmKPI",
        "outputId": "0421f5b5-299a-4adc-e06a-49effc171f1e"
      },
      "execution_count": 27,
      "outputs": [
        {
          "output_type": "execute_result",
          "data": {
            "text/plain": [
              "NEW_CONFIRMED          0.240428\n",
              "NEW_POS_TESTS          0.228310\n",
              "NEW_PROBABLE           0.215057\n",
              "NEW_HOSPITALIZED       0.130605\n",
              "NEW_DEATHS_BY_DOD      0.122661\n",
              "NEW_TESTS              0.106653\n",
              "TOTAL_CASES            0.100377\n",
              "TOTAL_CONFIRMED        0.097643\n",
              "POS_TESTS              0.096420\n",
              "TOTAL_HOSPITALIZED     0.092002\n",
              "TOTAL_DEATHS_BY_DOD    0.089986\n",
              "TOTAL_DEATHS           0.086210\n",
              "NEW_NEG_TESTS          0.086061\n",
              "TOTAL_TESTS            0.084552\n",
              "TOTAL_PROBABLE         0.082117\n",
              "NEG_TESTS              0.078414\n",
              "NEW_DEATHS             0.042710\n",
              "dtype: float64"
            ]
          },
          "metadata": {},
          "execution_count": 27
        }
      ]
    },
    {
      "cell_type": "code",
      "source": [
        "mutual_info.sort_values(ascending=False).plot.bar(figsize=(15,5))"
      ],
      "metadata": {
        "colab": {
          "base_uri": "https://localhost:8080/",
          "height": 450
        },
        "id": "FcCRZsjvmKAw",
        "outputId": "b48a7c20-d3fc-41b6-c009-d30c7894c5c3"
      },
      "execution_count": 28,
      "outputs": [
        {
          "output_type": "execute_result",
          "data": {
            "text/plain": [
              "<matplotlib.axes._subplots.AxesSubplot at 0x7fd6011e8d90>"
            ]
          },
          "metadata": {},
          "execution_count": 28
        },
        {
          "output_type": "display_data",
          "data": {
            "text/plain": [
              "<Figure size 1080x360 with 1 Axes>"
            ],
            "image/png": "[encoded data removed]"
          },
          "metadata": {
            "needs_background": "light"
          }
        }
      ]
    },
    {
      "cell_type": "code",
      "source": [
        "from sklearn.feature_selection import SelectPercentile"
      ],
      "metadata": {
        "id": "daRujwy5mJ3G"
      },
      "execution_count": 29,
      "outputs": []
    },
    {
      "cell_type": "code",
      "source": [
        "## Selecting the top 20 percentile\n",
        "selected_top_columns = SelectPercentile(mutual_info_regression, percentile=20)\n",
        "selected_top_columns.fit(X_train, y_train)"
      ],
      "metadata": {
        "colab": {
          "base_uri": "https://localhost:8080/"
        },
        "id": "UiUhQ3B4mJfo",
        "outputId": "a7779537-21da-43a3-ffe9-045243da583e"
      },
      "execution_count": 30,
      "outputs": [
        {
          "output_type": "execute_result",
          "data": {
            "text/plain": [
              "SelectPercentile(percentile=20,\n",
              "                 score_func=<function mutual_info_regression at 0x7fd601202b80>)"
            ]
          },
          "metadata": {},
          "execution_count": 30
        }
      ]
    },
    {
      "cell_type": "code",
      "source": [
        "selected_top_columns.get_support()"
      ],
      "metadata": {
        "colab": {
          "base_uri": "https://localhost:8080/"
        },
        "id": "D-RzMoJUmrcz",
        "outputId": "a9c92364-808d-47eb-99e8-df90321a4826"
      },
      "execution_count": 31,
      "outputs": [
        {
          "output_type": "execute_result",
          "data": {
            "text/plain": [
              "array([False, False,  True, False,  True, False,  True, False, False,\n",
              "       False, False, False, False,  True, False, False, False])"
            ]
          },
          "metadata": {},
          "execution_count": 31
        }
      ]
    },
    {
      "cell_type": "code",
      "source": [
        "X_train.columns[selected_top_columns.get_support()]"
      ],
      "metadata": {
        "colab": {
          "base_uri": "https://localhost:8080/"
        },
        "id": "qpV7ijcSmqnS",
        "outputId": "1d559c4c-d46d-498d-b6d5-6a68f902ff71"
      },
      "execution_count": 32,
      "outputs": [
        {
          "output_type": "execute_result",
          "data": {
            "text/plain": [
              "Index(['NEW_CONFIRMED', 'NEW_PROBABLE', 'NEW_POS_TESTS', 'NEW_HOSPITALIZED'], dtype='object')"
            ]
          },
          "metadata": {},
          "execution_count": 32
        }
      ]
    },
    {
      "cell_type": "code",
      "source": [
        "#Define the dependent variable that needs to be predicted (labels)\n",
        "y = df[\"NEW_CASES\"].values"
      ],
      "metadata": {
        "id": "OTP88My_mpyl"
      },
      "execution_count": 33,
      "outputs": []
    },
    {
      "cell_type": "code",
      "source": [
        "X= df.drop([\"NEW_CASES\"], axis=1)"
      ],
      "metadata": {
        "id": "0LsB_iUfmpti"
      },
      "execution_count": 34,
      "outputs": []
    },
    {
      "cell_type": "code",
      "source": [
        "X.head()"
      ],
      "metadata": {
        "colab": {
          "base_uri": "https://localhost:8080/",
          "height": 270
        },
        "id": "mG4WXl2IlUtr",
        "outputId": "ff8ca4ba-3ae3-432b-e290-48d215d9c7b0"
      },
      "execution_count": 35,
      "outputs": [
        {
          "output_type": "execute_result",
          "data": {
            "text/plain": [
              "   TOTAL_CASES  TOTAL_CONFIRMED  NEW_CONFIRMED  TOTAL_PROBABLE  NEW_PROBABLE  \\\n",
              "0        26624            16211              1           10413             1   \n",
              "1        17298            12508              5            4790             0   \n",
              "2         5424             3154              0            2270             0   \n",
              "3         5220             3827              0            1393             0   \n",
              "4        46919            37075              3            9844             2   \n",
              "\n",
              "   POS_TESTS  NEW_POS_TESTS  NEG_TESTS  NEW_NEG_TESTS  TOTAL_TESTS  NEW_TESTS  \\\n",
              "0      17646              1      94584              7       112230          8   \n",
              "1      13873              5      53100             11        66973         16   \n",
              "2       3367              0      15084              6        18451          6   \n",
              "3       4061              0      24075              1        28136          1   \n",
              "4      39618              3     138816             25       178434         28   \n",
              "\n",
              "   NEW_DEATHS  TOTAL_DEATHS  NEW_HOSPITALIZED  TOTAL_HOSPITALIZED  \\\n",
              "0           0           381                 0                 385   \n",
              "1           0           246                 0                 335   \n",
              "2           0           101                 0                 129   \n",
              "3           0            63                 0                 100   \n",
              "4           0           502                 0                 963   \n",
              "\n",
              "   TOTAL_DEATHS_BY_DOD  NEW_DEATHS_BY_DOD  \n",
              "0                  381                  0  \n",
              "1                  246                  0  \n",
              "2                  101                  0  \n",
              "3                   63                  0  \n",
              "4                  501                  0  "
            ],
            "text/html": [
              "\n",
              "  <div id=\"df-b0bde3dd-e377-44d7-ab4b-dda57d4f36eb\">\n",
              "    <div class=\"colab-df-container\">\n",
              "      <div>\n",
              "<style scoped>\n",
              "    .dataframe tbody tr th:only-of-type {\n",
              "        vertical-align: middle;\n",
              "    }\n",
              "\n",
              "    .dataframe tbody tr th {\n",
              "        vertical-align: top;\n",
              "    }\n",
              "\n",
              "    .dataframe thead th {\n",
              "        text-align: right;\n",
              "    }\n",
              "</style>\n",
              "<table border=\"1\" class=\"dataframe\">\n",
              "  <thead>\n",
              "    <tr style=\"text-align: right;\">\n",
              "      <th></th>\n",
              "      <th>TOTAL_CASES</th>\n",
              "      <th>TOTAL_CONFIRMED</th>\n",
              "      <th>NEW_CONFIRMED</th>\n",
              "      <th>TOTAL_PROBABLE</th>\n",
              "      <th>NEW_PROBABLE</th>\n",
              "      <th>POS_TESTS</th>\n",
              "      <th>NEW_POS_TESTS</th>\n",
              "      <th>NEG_TESTS</th>\n",
              "      <th>NEW_NEG_TESTS</th>\n",
              "      <th>TOTAL_TESTS</th>\n",
              "      <th>NEW_TESTS</th>\n",
              "      <th>NEW_DEATHS</th>\n",
              "      <th>TOTAL_DEATHS</th>\n",
              "      <th>NEW_HOSPITALIZED</th>\n",
              "      <th>TOTAL_HOSPITALIZED</th>\n",
              "      <th>TOTAL_DEATHS_BY_DOD</th>\n",
              "      <th>NEW_DEATHS_BY_DOD</th>\n",
              "    </tr>\n",
              "  </thead>\n",
              "  <tbody>\n",
              "    <tr>\n",
              "      <th>0</th>\n",
              "      <td>26624</td>\n",
              "      <td>16211</td>\n",
              "      <td>1</td>\n",
              "      <td>10413</td>\n",
              "      <td>1</td>\n",
              "      <td>17646</td>\n",
              "      <td>1</td>\n",
              "      <td>94584</td>\n",
              "      <td>7</td>\n",
              "      <td>112230</td>\n",
              "      <td>8</td>\n",
              "      <td>0</td>\n",
              "      <td>381</td>\n",
              "      <td>0</td>\n",
              "      <td>385</td>\n",
              "      <td>381</td>\n",
              "      <td>0</td>\n",
              "    </tr>\n",
              "    <tr>\n",
              "      <th>1</th>\n",
              "      <td>17298</td>\n",
              "      <td>12508</td>\n",
              "      <td>5</td>\n",
              "      <td>4790</td>\n",
              "      <td>0</td>\n",
              "      <td>13873</td>\n",
              "      <td>5</td>\n",
              "      <td>53100</td>\n",
              "      <td>11</td>\n",
              "      <td>66973</td>\n",
              "      <td>16</td>\n",
              "      <td>0</td>\n",
              "      <td>246</td>\n",
              "      <td>0</td>\n",
              "      <td>335</td>\n",
              "      <td>246</td>\n",
              "      <td>0</td>\n",
              "    </tr>\n",
              "    <tr>\n",
              "      <th>2</th>\n",
              "      <td>5424</td>\n",
              "      <td>3154</td>\n",
              "      <td>0</td>\n",
              "      <td>2270</td>\n",
              "      <td>0</td>\n",
              "      <td>3367</td>\n",
              "      <td>0</td>\n",
              "      <td>15084</td>\n",
              "      <td>6</td>\n",
              "      <td>18451</td>\n",
              "      <td>6</td>\n",
              "      <td>0</td>\n",
              "      <td>101</td>\n",
              "      <td>0</td>\n",
              "      <td>129</td>\n",
              "      <td>101</td>\n",
              "      <td>0</td>\n",
              "    </tr>\n",
              "    <tr>\n",
              "      <th>3</th>\n",
              "      <td>5220</td>\n",
              "      <td>3827</td>\n",
              "      <td>0</td>\n",
              "      <td>1393</td>\n",
              "      <td>0</td>\n",
              "      <td>4061</td>\n",
              "      <td>0</td>\n",
              "      <td>24075</td>\n",
              "      <td>1</td>\n",
              "      <td>28136</td>\n",
              "      <td>1</td>\n",
              "      <td>0</td>\n",
              "      <td>63</td>\n",
              "      <td>0</td>\n",
              "      <td>100</td>\n",
              "      <td>63</td>\n",
              "      <td>0</td>\n",
              "    </tr>\n",
              "    <tr>\n",
              "      <th>4</th>\n",
              "      <td>46919</td>\n",
              "      <td>37075</td>\n",
              "      <td>3</td>\n",
              "      <td>9844</td>\n",
              "      <td>2</td>\n",
              "      <td>39618</td>\n",
              "      <td>3</td>\n",
              "      <td>138816</td>\n",
              "      <td>25</td>\n",
              "      <td>178434</td>\n",
              "      <td>28</td>\n",
              "      <td>0</td>\n",
              "      <td>502</td>\n",
              "      <td>0</td>\n",
              "      <td>963</td>\n",
              "      <td>501</td>\n",
              "      <td>0</td>\n",
              "    </tr>\n",
              "  </tbody>\n",
              "</table>\n",
              "</div>\n",
              "      <button class=\"colab-df-convert\" onclick=\"convertToInteractive('df-b0bde3dd-e377-44d7-ab4b-dda57d4f36eb')\"\n",
              "              title=\"Convert this dataframe to an interactive table.\"\n",
              "              style=\"display:none;\">\n",
              "        \n",
              "  <svg xmlns=\"http://www.w3.org/2000/svg\" height=\"24px\"viewBox=\"0 0 24 24\"\n",
              "       width=\"24px\">\n",
              "    <path d=\"M0 0h24v24H0V0z\" fill=\"none\"/>\n",
              "    <path d=\"M18.56 5.44l.94 2.06.94-2.06 2.06-.94-2.06-.94-.94-2.06-.94 2.06-2.06.94zm-11 1L8.5 8.5l.94-2.06 2.06-.94-2.06-.94L8.5 2.5l-.94 2.06-2.06.94zm10 10l.94 2.06.94-2.06 2.06-.94-2.06-.94-.94-2.06-.94 2.06-2.06.94z\"/><path d=\"M17.41 7.96l-1.37-1.37c-.4-.4-.92-.59-1.43-.59-.52 0-1.04.2-1.43.59L10.3 9.45l-7.72 7.72c-.78.78-.78 2.05 0 2.83L4 21.41c.39.39.9.59 1.41.59.51 0 1.02-.2 1.41-.59l7.78-7.78 2.81-2.81c.8-.78.8-2.07 0-2.86zM5.41 20L4 18.59l7.72-7.72 1.47 1.35L5.41 20z\"/>\n",
              "  </svg>\n",
              "      </button>\n",
              "      \n",
              "  <style>\n",
              "    .colab-df-container {\n",
              "      display:flex;\n",
              "      flex-wrap:wrap;\n",
              "      gap: 12px;\n",
              "    }\n",
              "\n",
              "    .colab-df-convert {\n",
              "      background-color: #E8F0FE;\n",
              "      border: none;\n",
              "      border-radius: 50%;\n",
              "      cursor: pointer;\n",
              "      display: none;\n",
              "      fill: #1967D2;\n",
              "      height: 32px;\n",
              "      padding: 0 0 0 0;\n",
              "      width: 32px;\n",
              "    }\n",
              "\n",
              "    .colab-df-convert:hover {\n",
              "      background-color: #E2EBFA;\n",
              "      box-shadow: 0px 1px 2px rgba(60, 64, 67, 0.3), 0px 1px 3px 1px rgba(60, 64, 67, 0.15);\n",
              "      fill: #174EA6;\n",
              "    }\n",
              "\n",
              "    [theme=dark] .colab-df-convert {\n",
              "      background-color: #3B4455;\n",
              "      fill: #D2E3FC;\n",
              "    }\n",
              "\n",
              "    [theme=dark] .colab-df-convert:hover {\n",
              "      background-color: #434B5C;\n",
              "      box-shadow: 0px 1px 3px 1px rgba(0, 0, 0, 0.15);\n",
              "      filter: drop-shadow(0px 1px 2px rgba(0, 0, 0, 0.3));\n",
              "      fill: #FFFFFF;\n",
              "    }\n",
              "  </style>\n",
              "\n",
              "      <script>\n",
              "        const buttonEl =\n",
              "          document.querySelector('#df-b0bde3dd-e377-44d7-ab4b-dda57d4f36eb button.colab-df-convert');\n",
              "        buttonEl.style.display =\n",
              "          google.colab.kernel.accessAllowed ? 'block' : 'none';\n",
              "\n",
              "        async function convertToInteractive(key) {\n",
              "          const element = document.querySelector('#df-b0bde3dd-e377-44d7-ab4b-dda57d4f36eb');\n",
              "          const dataTable =\n",
              "            await google.colab.kernel.invokeFunction('convertToInteractive',\n",
              "                                                     [key], {});\n",
              "          if (!dataTable) return;\n",
              "\n",
              "          const docLinkHtml = 'Like what you see? Visit the ' +\n",
              "            '<a target=\"_blank\" href=https://colab.research.google.com/notebooks/data_table.ipynb>data table notebook</a>'\n",
              "            + ' to learn more about interactive tables.';\n",
              "          element.innerHTML = '';\n",
              "          dataTable['output_type'] = 'display_data';\n",
              "          await google.colab.output.renderOutput(dataTable, element);\n",
              "          const docLink = document.createElement('div');\n",
              "          docLink.innerHTML = docLinkHtml;\n",
              "          element.appendChild(docLink);\n",
              "        }\n",
              "      </script>\n",
              "    </div>\n",
              "  </div>\n",
              "  "
            ]
          },
          "metadata": {},
          "execution_count": 35
        }
      ]
    },
    {
      "cell_type": "code",
      "source": [
        "feature_names = np.array(X.columns) "
      ],
      "metadata": {
        "id": "hgtukp3Po9sm"
      },
      "execution_count": 36,
      "outputs": []
    },
    {
      "cell_type": "code",
      "source": [
        "from sklearn.preprocessing import StandardScaler\n",
        "scaler = StandardScaler()\n",
        "scaler.fit(X)\n",
        "X = scaler.transform(X)"
      ],
      "metadata": {
        "id": "IdLrAbY-o9og"
      },
      "execution_count": 37,
      "outputs": []
    },
    {
      "cell_type": "code",
      "source": [
        "##Split data into train and test to verify accuracy after fitting the model. \n",
        "from sklearn.model_selection import train_test_split\n",
        "X_train, X_test, y_train, y_test = train_test_split(X, y, test_size=0.25, random_state=42)"
      ],
      "metadata": {
        "id": "iwGBiN8do9kl"
      },
      "execution_count": 38,
      "outputs": []
    },
    {
      "cell_type": "code",
      "source": [
        "# Define XGBOOST classifier to be used by Boruta\n",
        "import xgboost as xgb\n",
        "#model = xgb.XGBClassifier()  #For Boruta\n",
        "from sklearn.ensemble import RandomForestRegressor"
      ],
      "metadata": {
        "id": "dBJ2Fay7o9gf"
      },
      "execution_count": 39,
      "outputs": []
    },
    {
      "cell_type": "markdown",
      "source": [
        "Create shadow features – random features and shuffle values in columns Train Random Forest / XGBoost and calculate feature importance via mean decrease impurity Check if real features have higher importance compared to shadow features Repeat this for every iteration If original feature performed better, then mark it as important"
      ],
      "metadata": {
        "id": "T1_8GWMqpkwH"
      }
    },
    {
      "cell_type": "code",
      "source": [
        "pip install Boruta"
      ],
      "metadata": {
        "colab": {
          "base_uri": "https://localhost:8080/"
        },
        "id": "JMyuIKCmpgzW",
        "outputId": "69504f48-218d-4180-b7eb-afc0b3b1ecc1"
      },
      "execution_count": 40,
      "outputs": [
        {
          "output_type": "stream",
          "name": "stdout",
          "text": [
            "Looking in indexes: https://pypi.org/simple, https://us-python.pkg.dev/colab-wheels/public/simple/\n",
            "Collecting Boruta\n",
            "  Downloading Boruta-0.3-py3-none-any.whl (56 kB)\n",
            "\u001b[2K     \u001b[90m━━━━━━━━━━━━━━━━━━━━━━━━━━━━━━━━━━━━━━━━\u001b[0m \u001b[32m56.6/56.6 KB\u001b[0m \u001b[31m3.7 MB/s\u001b[0m eta \u001b[36m0:00:00\u001b[0m\n",
            "\u001b[?25hRequirement already satisfied: scikit-learn>=0.17.1 in /usr/local/lib/python3.8/dist-packages (from Boruta) (1.0.2)\n",
            "Requirement already satisfied: scipy>=0.17.0 in /usr/local/lib/python3.8/dist-packages (from Boruta) (1.7.3)\n",
            "Requirement already satisfied: numpy>=1.10.4 in /usr/local/lib/python3.8/dist-packages (from Boruta) (1.21.6)\n",
            "Requirement already satisfied: joblib>=0.11 in /usr/local/lib/python3.8/dist-packages (from scikit-learn>=0.17.1->Boruta) (1.2.0)\n",
            "Requirement already satisfied: threadpoolctl>=2.0.0 in /usr/local/lib/python3.8/dist-packages (from scikit-learn>=0.17.1->Boruta) (3.1.0)\n",
            "Installing collected packages: Boruta\n",
            "Successfully installed Boruta-0.3\n"
          ]
        }
      ]
    },
    {
      "cell_type": "code",
      "source": [
        "from boruta import BorutaPy"
      ],
      "metadata": {
        "id": "yhiJiscNpgv5"
      },
      "execution_count": 41,
      "outputs": []
    },
    {
      "cell_type": "code",
      "source": [
        "# let's initialize a RF model\n",
        "model = RandomForestRegressor(n_estimators=100, max_depth=5, random_state=42)\n"
      ],
      "metadata": {
        "id": "ksH7s8M4qeBA"
      },
      "execution_count": 43,
      "outputs": []
    },
    {
      "cell_type": "code",
      "source": [
        "# define Boruta feature selection method\n",
        "feat_selector = BorutaPy(model, n_estimators='auto', verbose=2, random_state=1)"
      ],
      "metadata": {
        "id": "bOK17UEQpgsn"
      },
      "execution_count": 44,
      "outputs": []
    },
    {
      "cell_type": "code",
      "source": [
        "from sklearn.ensemble import RandomForestClassifier\n",
        "\n",
        "# define random forest classifier\n",
        "forest = RandomForestClassifier(n_jobs=-1, class_weight='balanced', max_depth=5)\n",
        "forest.fit(X, y)"
      ],
      "metadata": {
        "colab": {
          "base_uri": "https://localhost:8080/"
        },
        "id": "sighi0vBpgo-",
        "outputId": "883f838d-c8a6-47ce-b991-30229b1c250a"
      },
      "execution_count": 45,
      "outputs": [
        {
          "output_type": "execute_result",
          "data": {
            "text/plain": [
              "RandomForestClassifier(class_weight='balanced', max_depth=5, n_jobs=-1)"
            ]
          },
          "metadata": {},
          "execution_count": 45
        }
      ]
    },
    {
      "cell_type": "code",
      "source": [
        "# define Boruta feature selection method\n",
        "feat_selector = BorutaPy(forest, n_estimators='auto', verbose=2, random_state=1)"
      ],
      "metadata": {
        "id": "yHPtLhmoo9al"
      },
      "execution_count": 46,
      "outputs": []
    },
    {
      "cell_type": "code",
      "source": [
        "# find all relevant features\n",
        "feat_selector.fit(X_train, y_train)"
      ],
      "metadata": {
        "colab": {
          "base_uri": "https://localhost:8080/"
        },
        "id": "wdKVl8Dgq3ej",
        "outputId": "abfb38c2-c1c5-4f83-873e-41e59fac3c71"
      },
      "execution_count": 47,
      "outputs": [
        {
          "output_type": "stream",
          "name": "stdout",
          "text": [
            "Iteration: \t1 / 100\n",
            "Confirmed: \t0\n",
            "Tentative: \t17\n",
            "Rejected: \t0\n",
            "Iteration: \t2 / 100\n",
            "Confirmed: \t0\n",
            "Tentative: \t17\n",
            "Rejected: \t0\n",
            "Iteration: \t3 / 100\n",
            "Confirmed: \t0\n",
            "Tentative: \t17\n",
            "Rejected: \t0\n",
            "Iteration: \t4 / 100\n",
            "Confirmed: \t0\n",
            "Tentative: \t17\n",
            "Rejected: \t0\n",
            "Iteration: \t5 / 100\n",
            "Confirmed: \t0\n",
            "Tentative: \t17\n",
            "Rejected: \t0\n",
            "Iteration: \t6 / 100\n",
            "Confirmed: \t0\n",
            "Tentative: \t17\n",
            "Rejected: \t0\n",
            "Iteration: \t7 / 100\n",
            "Confirmed: \t0\n",
            "Tentative: \t17\n",
            "Rejected: \t0\n",
            "Iteration: \t8 / 100\n",
            "Confirmed: \t4\n",
            "Tentative: \t3\n",
            "Rejected: \t10\n",
            "Iteration: \t9 / 100\n",
            "Confirmed: \t4\n",
            "Tentative: \t3\n",
            "Rejected: \t10\n",
            "Iteration: \t10 / 100\n",
            "Confirmed: \t4\n",
            "Tentative: \t3\n",
            "Rejected: \t10\n",
            "Iteration: \t11 / 100\n",
            "Confirmed: \t4\n",
            "Tentative: \t3\n",
            "Rejected: \t10\n",
            "Iteration: \t12 / 100\n",
            "Confirmed: \t5\n",
            "Tentative: \t2\n",
            "Rejected: \t10\n",
            "Iteration: \t13 / 100\n",
            "Confirmed: \t5\n",
            "Tentative: \t2\n",
            "Rejected: \t10\n",
            "Iteration: \t14 / 100\n",
            "Confirmed: \t5\n",
            "Tentative: \t2\n",
            "Rejected: \t10\n",
            "Iteration: \t15 / 100\n",
            "Confirmed: \t5\n",
            "Tentative: \t2\n",
            "Rejected: \t10\n",
            "Iteration: \t16 / 100\n",
            "Confirmed: \t5\n",
            "Tentative: \t2\n",
            "Rejected: \t10\n",
            "Iteration: \t17 / 100\n",
            "Confirmed: \t5\n",
            "Tentative: \t2\n",
            "Rejected: \t10\n",
            "Iteration: \t18 / 100\n",
            "Confirmed: \t5\n",
            "Tentative: \t2\n",
            "Rejected: \t10\n",
            "Iteration: \t19 / 100\n",
            "Confirmed: \t5\n",
            "Tentative: \t2\n",
            "Rejected: \t10\n",
            "Iteration: \t20 / 100\n",
            "Confirmed: \t5\n",
            "Tentative: \t2\n",
            "Rejected: \t10\n",
            "Iteration: \t21 / 100\n",
            "Confirmed: \t5\n",
            "Tentative: \t2\n",
            "Rejected: \t10\n",
            "Iteration: \t22 / 100\n",
            "Confirmed: \t5\n",
            "Tentative: \t2\n",
            "Rejected: \t10\n",
            "Iteration: \t23 / 100\n",
            "Confirmed: \t5\n",
            "Tentative: \t2\n",
            "Rejected: \t10\n",
            "Iteration: \t24 / 100\n",
            "Confirmed: \t5\n",
            "Tentative: \t2\n",
            "Rejected: \t10\n",
            "Iteration: \t25 / 100\n",
            "Confirmed: \t5\n",
            "Tentative: \t2\n",
            "Rejected: \t10\n",
            "Iteration: \t26 / 100\n",
            "Confirmed: \t5\n",
            "Tentative: \t2\n",
            "Rejected: \t10\n",
            "Iteration: \t27 / 100\n",
            "Confirmed: \t5\n",
            "Tentative: \t2\n",
            "Rejected: \t10\n",
            "Iteration: \t28 / 100\n",
            "Confirmed: \t5\n",
            "Tentative: \t2\n",
            "Rejected: \t10\n",
            "Iteration: \t29 / 100\n",
            "Confirmed: \t5\n",
            "Tentative: \t2\n",
            "Rejected: \t10\n",
            "Iteration: \t30 / 100\n",
            "Confirmed: \t5\n",
            "Tentative: \t2\n",
            "Rejected: \t10\n",
            "Iteration: \t31 / 100\n",
            "Confirmed: \t5\n",
            "Tentative: \t2\n",
            "Rejected: \t10\n",
            "Iteration: \t32 / 100\n",
            "Confirmed: \t5\n",
            "Tentative: \t2\n",
            "Rejected: \t10\n",
            "Iteration: \t33 / 100\n",
            "Confirmed: \t5\n",
            "Tentative: \t2\n",
            "Rejected: \t10\n",
            "Iteration: \t34 / 100\n",
            "Confirmed: \t5\n",
            "Tentative: \t2\n",
            "Rejected: \t10\n",
            "Iteration: \t35 / 100\n",
            "Confirmed: \t5\n",
            "Tentative: \t2\n",
            "Rejected: \t10\n",
            "Iteration: \t36 / 100\n",
            "Confirmed: \t5\n",
            "Tentative: \t2\n",
            "Rejected: \t10\n",
            "Iteration: \t37 / 100\n",
            "Confirmed: \t5\n",
            "Tentative: \t2\n",
            "Rejected: \t10\n",
            "Iteration: \t38 / 100\n",
            "Confirmed: \t5\n",
            "Tentative: \t2\n",
            "Rejected: \t10\n",
            "Iteration: \t39 / 100\n",
            "Confirmed: \t5\n",
            "Tentative: \t2\n",
            "Rejected: \t10\n",
            "Iteration: \t40 / 100\n",
            "Confirmed: \t5\n",
            "Tentative: \t2\n",
            "Rejected: \t10\n",
            "Iteration: \t41 / 100\n",
            "Confirmed: \t5\n",
            "Tentative: \t2\n",
            "Rejected: \t10\n",
            "Iteration: \t42 / 100\n",
            "Confirmed: \t5\n",
            "Tentative: \t2\n",
            "Rejected: \t10\n",
            "Iteration: \t43 / 100\n",
            "Confirmed: \t5\n",
            "Tentative: \t2\n",
            "Rejected: \t10\n",
            "Iteration: \t44 / 100\n",
            "Confirmed: \t5\n",
            "Tentative: \t2\n",
            "Rejected: \t10\n",
            "Iteration: \t45 / 100\n",
            "Confirmed: \t5\n",
            "Tentative: \t2\n",
            "Rejected: \t10\n",
            "Iteration: \t46 / 100\n",
            "Confirmed: \t5\n",
            "Tentative: \t2\n",
            "Rejected: \t10\n",
            "Iteration: \t47 / 100\n",
            "Confirmed: \t5\n",
            "Tentative: \t2\n",
            "Rejected: \t10\n",
            "Iteration: \t48 / 100\n",
            "Confirmed: \t5\n",
            "Tentative: \t2\n",
            "Rejected: \t10\n",
            "Iteration: \t49 / 100\n",
            "Confirmed: \t5\n",
            "Tentative: \t2\n",
            "Rejected: \t10\n",
            "Iteration: \t50 / 100\n",
            "Confirmed: \t5\n",
            "Tentative: \t2\n",
            "Rejected: \t10\n",
            "Iteration: \t51 / 100\n",
            "Confirmed: \t5\n",
            "Tentative: \t2\n",
            "Rejected: \t10\n",
            "Iteration: \t52 / 100\n",
            "Confirmed: \t5\n",
            "Tentative: \t2\n",
            "Rejected: \t10\n",
            "Iteration: \t53 / 100\n",
            "Confirmed: \t5\n",
            "Tentative: \t2\n",
            "Rejected: \t10\n",
            "Iteration: \t54 / 100\n",
            "Confirmed: \t6\n",
            "Tentative: \t1\n",
            "Rejected: \t10\n",
            "Iteration: \t55 / 100\n",
            "Confirmed: \t6\n",
            "Tentative: \t1\n",
            "Rejected: \t10\n",
            "Iteration: \t56 / 100\n",
            "Confirmed: \t6\n",
            "Tentative: \t1\n",
            "Rejected: \t10\n",
            "Iteration: \t57 / 100\n",
            "Confirmed: \t6\n",
            "Tentative: \t1\n",
            "Rejected: \t10\n",
            "Iteration: \t58 / 100\n",
            "Confirmed: \t6\n",
            "Tentative: \t1\n",
            "Rejected: \t10\n",
            "Iteration: \t59 / 100\n",
            "Confirmed: \t6\n",
            "Tentative: \t1\n",
            "Rejected: \t10\n",
            "Iteration: \t60 / 100\n",
            "Confirmed: \t6\n",
            "Tentative: \t1\n",
            "Rejected: \t10\n",
            "Iteration: \t61 / 100\n",
            "Confirmed: \t6\n",
            "Tentative: \t1\n",
            "Rejected: \t10\n",
            "Iteration: \t62 / 100\n",
            "Confirmed: \t6\n",
            "Tentative: \t1\n",
            "Rejected: \t10\n",
            "Iteration: \t63 / 100\n",
            "Confirmed: \t6\n",
            "Tentative: \t1\n",
            "Rejected: \t10\n",
            "Iteration: \t64 / 100\n",
            "Confirmed: \t6\n",
            "Tentative: \t1\n",
            "Rejected: \t10\n",
            "Iteration: \t65 / 100\n",
            "Confirmed: \t6\n",
            "Tentative: \t1\n",
            "Rejected: \t10\n",
            "Iteration: \t66 / 100\n",
            "Confirmed: \t6\n",
            "Tentative: \t1\n",
            "Rejected: \t10\n",
            "Iteration: \t67 / 100\n",
            "Confirmed: \t6\n",
            "Tentative: \t1\n",
            "Rejected: \t10\n",
            "Iteration: \t68 / 100\n",
            "Confirmed: \t6\n",
            "Tentative: \t1\n",
            "Rejected: \t10\n",
            "Iteration: \t69 / 100\n",
            "Confirmed: \t6\n",
            "Tentative: \t1\n",
            "Rejected: \t10\n",
            "Iteration: \t70 / 100\n",
            "Confirmed: \t6\n",
            "Tentative: \t1\n",
            "Rejected: \t10\n",
            "Iteration: \t71 / 100\n",
            "Confirmed: \t6\n",
            "Tentative: \t1\n",
            "Rejected: \t10\n",
            "Iteration: \t72 / 100\n",
            "Confirmed: \t6\n",
            "Tentative: \t1\n",
            "Rejected: \t10\n",
            "Iteration: \t73 / 100\n",
            "Confirmed: \t6\n",
            "Tentative: \t1\n",
            "Rejected: \t10\n",
            "Iteration: \t74 / 100\n",
            "Confirmed: \t6\n",
            "Tentative: \t1\n",
            "Rejected: \t10\n",
            "Iteration: \t75 / 100\n",
            "Confirmed: \t6\n",
            "Tentative: \t1\n",
            "Rejected: \t10\n",
            "Iteration: \t76 / 100\n",
            "Confirmed: \t6\n",
            "Tentative: \t1\n",
            "Rejected: \t10\n",
            "Iteration: \t77 / 100\n",
            "Confirmed: \t6\n",
            "Tentative: \t1\n",
            "Rejected: \t10\n",
            "Iteration: \t78 / 100\n",
            "Confirmed: \t6\n",
            "Tentative: \t1\n",
            "Rejected: \t10\n",
            "Iteration: \t79 / 100\n",
            "Confirmed: \t6\n",
            "Tentative: \t1\n",
            "Rejected: \t10\n",
            "Iteration: \t80 / 100\n",
            "Confirmed: \t6\n",
            "Tentative: \t1\n",
            "Rejected: \t10\n",
            "Iteration: \t81 / 100\n",
            "Confirmed: \t6\n",
            "Tentative: \t1\n",
            "Rejected: \t10\n",
            "Iteration: \t82 / 100\n",
            "Confirmed: \t6\n",
            "Tentative: \t1\n",
            "Rejected: \t10\n",
            "Iteration: \t83 / 100\n",
            "Confirmed: \t6\n",
            "Tentative: \t1\n",
            "Rejected: \t10\n",
            "Iteration: \t84 / 100\n",
            "Confirmed: \t6\n",
            "Tentative: \t1\n",
            "Rejected: \t10\n",
            "Iteration: \t85 / 100\n",
            "Confirmed: \t6\n",
            "Tentative: \t1\n",
            "Rejected: \t10\n",
            "Iteration: \t86 / 100\n",
            "Confirmed: \t6\n",
            "Tentative: \t1\n",
            "Rejected: \t10\n",
            "Iteration: \t87 / 100\n",
            "Confirmed: \t6\n",
            "Tentative: \t1\n",
            "Rejected: \t10\n",
            "Iteration: \t88 / 100\n",
            "Confirmed: \t6\n",
            "Tentative: \t1\n",
            "Rejected: \t10\n",
            "Iteration: \t89 / 100\n",
            "Confirmed: \t6\n",
            "Tentative: \t1\n",
            "Rejected: \t10\n",
            "Iteration: \t90 / 100\n",
            "Confirmed: \t6\n",
            "Tentative: \t1\n",
            "Rejected: \t10\n",
            "Iteration: \t91 / 100\n",
            "Confirmed: \t6\n",
            "Tentative: \t1\n",
            "Rejected: \t10\n",
            "Iteration: \t92 / 100\n",
            "Confirmed: \t6\n",
            "Tentative: \t1\n",
            "Rejected: \t10\n",
            "Iteration: \t93 / 100\n",
            "Confirmed: \t6\n",
            "Tentative: \t1\n",
            "Rejected: \t10\n",
            "Iteration: \t94 / 100\n",
            "Confirmed: \t6\n",
            "Tentative: \t1\n",
            "Rejected: \t10\n",
            "Iteration: \t95 / 100\n",
            "Confirmed: \t6\n",
            "Tentative: \t1\n",
            "Rejected: \t10\n",
            "Iteration: \t96 / 100\n",
            "Confirmed: \t6\n",
            "Tentative: \t1\n",
            "Rejected: \t10\n",
            "Iteration: \t97 / 100\n",
            "Confirmed: \t6\n",
            "Tentative: \t1\n",
            "Rejected: \t10\n",
            "Iteration: \t98 / 100\n",
            "Confirmed: \t6\n",
            "Tentative: \t1\n",
            "Rejected: \t10\n",
            "Iteration: \t99 / 100\n",
            "Confirmed: \t6\n",
            "Tentative: \t1\n",
            "Rejected: \t10\n",
            "\n",
            "\n",
            "BorutaPy finished running.\n",
            "\n",
            "Iteration: \t100 / 100\n",
            "Confirmed: \t6\n",
            "Tentative: \t1\n",
            "Rejected: \t10\n"
          ]
        },
        {
          "output_type": "execute_result",
          "data": {
            "text/plain": [
              "BorutaPy(estimator=RandomForestClassifier(class_weight='balanced', max_depth=5,\n",
              "                                          n_estimators=74, n_jobs=-1,\n",
              "                                          random_state=RandomState(MT19937) at 0x7FD5F7959A40),\n",
              "         n_estimators='auto',\n",
              "         random_state=RandomState(MT19937) at 0x7FD5F7959A40, verbose=2)"
            ]
          },
          "metadata": {},
          "execution_count": 47
        }
      ]
    },
    {
      "cell_type": "code",
      "source": [],
      "metadata": {
        "id": "RfFaZIE-tppV"
      },
      "execution_count": null,
      "outputs": []
    },
    {
      "cell_type": "code",
      "source": [
        "# check selected features\n",
        "print(feat_selector.support_)  #Should we accept the feature"
      ],
      "metadata": {
        "colab": {
          "base_uri": "https://localhost:8080/"
        },
        "id": "QW-oUQ71q3Xm",
        "outputId": "315ec0ae-cc6e-4075-e9b5-9bc1bbacee70"
      },
      "execution_count": 48,
      "outputs": [
        {
          "output_type": "stream",
          "name": "stdout",
          "text": [
            "[False False  True False  True False  True False  True False  True  True\n",
            " False False False False False]\n"
          ]
        }
      ]
    },
    {
      "cell_type": "code",
      "source": [
        "# check ranking of features\n",
        "print(feat_selector.ranking_) #Rank 1 is the best"
      ],
      "metadata": {
        "colab": {
          "base_uri": "https://localhost:8080/"
        },
        "id": "TIjYwuJoq20r",
        "outputId": "1bac4cc8-ef53-43de-93d3-cae3be6cbede"
      },
      "execution_count": 49,
      "outputs": [
        {
          "output_type": "stream",
          "name": "stdout",
          "text": [
            "[ 7  6  1  8  1 12  1  4  1 10  1  1 11  3  4  9  2]\n"
          ]
        }
      ]
    },
    {
      "cell_type": "code",
      "source": [
        "# call transform() on X to filter it down to selected features\n",
        "X_filtered = feat_selector.transform(X_train)  #Apply feature selection and return transformed data"
      ],
      "metadata": {
        "id": "kAIV_HGJq2vb"
      },
      "execution_count": 50,
      "outputs": []
    },
    {
      "cell_type": "code",
      "source": [
        "\"\"\"\n",
        "Review the features\n",
        "\"\"\"\n",
        "# zip feature names, ranks, and decisions \n",
        "feature_ranks = list(zip(feature_names, \n",
        "                         feat_selector.ranking_, \n",
        "                         feat_selector.support_))"
      ],
      "metadata": {
        "id": "M6grIvYBttLh"
      },
      "execution_count": 51,
      "outputs": []
    },
    {
      "cell_type": "code",
      "source": [
        "# print the results\n",
        "for feat in feature_ranks:\n",
        "    print('Feature: {:<30} Rank: {},  Keep: {}'.format(feat[0], feat[1], feat[2]))"
      ],
      "metadata": {
        "colab": {
          "base_uri": "https://localhost:8080/"
        },
        "id": "XsikLK1XttIA",
        "outputId": "5eaa94d5-e33f-4c7a-f871-550ec9cfe361"
      },
      "execution_count": 52,
      "outputs": [
        {
          "output_type": "stream",
          "name": "stdout",
          "text": [
            "Feature: TOTAL_CASES                    Rank: 7,  Keep: False\n",
            "Feature: TOTAL_CONFIRMED                Rank: 6,  Keep: False\n",
            "Feature: NEW_CONFIRMED                  Rank: 1,  Keep: True\n",
            "Feature: TOTAL_PROBABLE                 Rank: 8,  Keep: False\n",
            "Feature: NEW_PROBABLE                   Rank: 1,  Keep: True\n",
            "Feature: POS_TESTS                      Rank: 12,  Keep: False\n",
            "Feature: NEW_POS_TESTS                  Rank: 1,  Keep: True\n",
            "Feature: NEG_TESTS                      Rank: 4,  Keep: False\n",
            "Feature: NEW_NEG_TESTS                  Rank: 1,  Keep: True\n",
            "Feature: TOTAL_TESTS                    Rank: 10,  Keep: False\n",
            "Feature: NEW_TESTS                      Rank: 1,  Keep: True\n",
            "Feature: NEW_DEATHS                     Rank: 1,  Keep: True\n",
            "Feature: TOTAL_DEATHS                   Rank: 11,  Keep: False\n",
            "Feature: NEW_HOSPITALIZED               Rank: 3,  Keep: False\n",
            "Feature: TOTAL_HOSPITALIZED             Rank: 4,  Keep: False\n",
            "Feature: TOTAL_DEATHS_BY_DOD            Rank: 9,  Keep: False\n",
            "Feature: NEW_DEATHS_BY_DOD              Rank: 2,  Keep: False\n"
          ]
        }
      ]
    },
    {
      "cell_type": "code",
      "source": [
        "print(\"\\n------Selected Features------\\n\")\n",
        "print(X_filtered)"
      ],
      "metadata": {
        "colab": {
          "base_uri": "https://localhost:8080/"
        },
        "id": "lLnmsmFGttEu",
        "outputId": "6188b300-eb85-4517-a9cf-2a00d350bded"
      },
      "execution_count": 53,
      "outputs": [
        {
          "output_type": "stream",
          "name": "stdout",
          "text": [
            "\n",
            "------Selected Features------\n",
            "\n",
            "[[-0.27140844 -0.30748552 -0.26938462 -0.24797829 -0.26577067 -0.18944089]\n",
            " [-0.13694037 -0.36272066 -0.12295601 -0.22281095 -0.2203121  -0.18944089]\n",
            " [-0.0024723   0.07916046 -0.01646247 -0.15646067 -0.14385906 -0.18944089]\n",
            " ...\n",
            " [-0.09211768 -0.36272066 -0.09633262 -0.0626551  -0.07153861 -0.18944089]\n",
            " [ 0.07223218  0.79721728  0.07671938  0.03801428  0.0462404   1.10793048]\n",
            " [-0.22658575 -0.36272066 -0.22944955 -0.2708577  -0.28023475 -0.18944089]]\n"
          ]
        }
      ]
    },
    {
      "cell_type": "code",
      "source": [
        "# features selected by Boruta\n",
        "X_filtered = feat_selector.transform(np.array(X))"
      ],
      "metadata": {
        "id": "0qTnK7LnttAw"
      },
      "execution_count": 54,
      "outputs": []
    },
    {
      "cell_type": "code",
      "source": [
        "print(\"\\n------Selected Features------\\n\")\n",
        "print(X_filtered)"
      ],
      "metadata": {
        "colab": {
          "base_uri": "https://localhost:8080/"
        },
        "id": "YBwDuIuUuI23",
        "outputId": "934ea1df-7222-42db-a676-4118bdb88634"
      },
      "execution_count": 55,
      "outputs": [
        {
          "output_type": "stream",
          "name": "stdout",
          "text": [
            "\n",
            "------Selected Features------\n",
            "\n",
            "[[-0.25646755 -0.30748552 -0.25607293 -0.2708577  -0.28436735 -0.18944089]\n",
            " [-0.19670396 -0.36272066 -0.20282616 -0.26170594 -0.26783696 -0.18944089]\n",
            " [-0.27140844 -0.36272066 -0.26938462 -0.27314564 -0.28849995 -0.18944089]\n",
            " ...\n",
            " [-0.27140844 -0.36272066 -0.26938462 -0.28687329 -0.30089774 -0.18944089]\n",
            " [-0.27140844 -0.36272066 -0.24276124 -0.28000946 -0.29056625 -0.18944089]\n",
            " [-0.27140844 -0.36272066 -0.26938462 -0.28687329 -0.30089774 -0.18944089]]\n"
          ]
        }
      ]
    },
    {
      "cell_type": "code",
      "source": [
        "# train the model\n",
        "model.fit(X_filtered, y)"
      ],
      "metadata": {
        "colab": {
          "base_uri": "https://localhost:8080/"
        },
        "id": "8F2HaMq7uIvy",
        "outputId": "f1b097e7-4923-45b9-96ad-8fb1bac03a01"
      },
      "execution_count": 56,
      "outputs": [
        {
          "output_type": "execute_result",
          "data": {
            "text/plain": [
              "RandomForestRegressor(max_depth=5, random_state=42)"
            ]
          },
          "metadata": {},
          "execution_count": 56
        }
      ]
    },
    {
      "cell_type": "code",
      "source": [
        "# compute predictions\n",
        "predictions = model.predict(X_filtered)"
      ],
      "metadata": {
        "id": "jPoMPid7uIqX"
      },
      "execution_count": 57,
      "outputs": []
    },
    {
      "cell_type": "code",
      "source": [
        "# create a dataframe with real predictions and values\n",
        "df = pd.DataFrame({'pred': predictions, 'observed': y})"
      ],
      "metadata": {
        "id": "s-6xCV_auYfS"
      },
      "execution_count": 58,
      "outputs": []
    },
    {
      "cell_type": "code",
      "source": [
        "# let's print the dataframe\n",
        "print(\"\\n------Predictions and real values------\\n\")\n",
        "print(df)"
      ],
      "metadata": {
        "colab": {
          "base_uri": "https://localhost:8080/"
        },
        "id": "xXNBZgdxuYaB",
        "outputId": "a1ed5b49-36fb-4c86-8a1b-5133b5e97198"
      },
      "execution_count": 59,
      "outputs": [
        {
          "output_type": "stream",
          "name": "stdout",
          "text": [
            "\n",
            "------Predictions and real values------\n",
            "\n",
            "           pred  observed\n",
            "0      1.846319         2\n",
            "1      9.320520         5\n",
            "2      1.846319         0\n",
            "3      1.846319         0\n",
            "4      1.846319         5\n",
            "...         ...       ...\n",
            "97383  1.846319         0\n",
            "97384  1.846319         0\n",
            "97385  1.846319         0\n",
            "97386  1.846319         0\n",
            "97387  1.846319         0\n",
            "\n",
            "[97388 rows x 2 columns]\n"
          ]
        }
      ]
    },
    {
      "cell_type": "code",
      "source": [
        "# compute RMSE\n",
        "mse = ((df['pred'] - df['observed']) ** 2).mean()\n",
        "rmse = np.sqrt(mse)\n",
        "print(\"\\n------RMSE for Boruta------\\n\", round(rmse, 3))"
      ],
      "metadata": {
        "colab": {
          "base_uri": "https://localhost:8080/"
        },
        "id": "eBN8cgRsq2G8",
        "outputId": "3a6251dd-e223-4b34-8455-00bfb5abbe02"
      },
      "execution_count": 60,
      "outputs": [
        {
          "output_type": "stream",
          "name": "stdout",
          "text": [
            "\n",
            "------RMSE for Boruta------\n",
            " 7.16\n"
          ]
        }
      ]
    },
    {
      "cell_type": "code",
      "source": [
        "# features selected by Boruta\n",
        "X_train = feat_selector.transform(np.array(X))"
      ],
      "metadata": {
        "id": "ZgKMgtNpur5I"
      },
      "execution_count": 61,
      "outputs": []
    },
    {
      "cell_type": "code",
      "source": [
        "# train the model\n",
        "model.fit(X_train,y)"
      ],
      "metadata": {
        "colab": {
          "base_uri": "https://localhost:8080/"
        },
        "id": "ia_eSZMgurzp",
        "outputId": "4ef6e8ca-8c12-47c7-e0e2-a11ccd7cfa21"
      },
      "execution_count": 62,
      "outputs": [
        {
          "output_type": "execute_result",
          "data": {
            "text/plain": [
              "RandomForestRegressor(max_depth=5, random_state=42)"
            ]
          },
          "metadata": {},
          "execution_count": 62
        }
      ]
    },
    {
      "cell_type": "code",
      "source": [
        "# compute predictions\n",
        "predictions = model.predict(X_train)"
      ],
      "metadata": {
        "id": "VXnWmxpuurud"
      },
      "execution_count": 63,
      "outputs": []
    },
    {
      "cell_type": "code",
      "source": [
        "# create a dataframe with real predictions and values\n",
        "df = pd.DataFrame({'pred': predictions, 'observed': y})"
      ],
      "metadata": {
        "id": "mVmGUcP4vFkO"
      },
      "execution_count": 64,
      "outputs": []
    },
    {
      "cell_type": "code",
      "source": [
        "# let's print the dataframe\n",
        "print(\"\\n------Predictions and real values------\\n\")\n",
        "print(df)"
      ],
      "metadata": {
        "colab": {
          "base_uri": "https://localhost:8080/"
        },
        "id": "S62mEzS2vFfS",
        "outputId": "fd625f1e-44f4-46fc-8cd0-c5ed2e9a6c78"
      },
      "execution_count": 65,
      "outputs": [
        {
          "output_type": "stream",
          "name": "stdout",
          "text": [
            "\n",
            "------Predictions and real values------\n",
            "\n",
            "           pred  observed\n",
            "0      1.846319         2\n",
            "1      9.320520         5\n",
            "2      1.846319         0\n",
            "3      1.846319         0\n",
            "4      1.846319         5\n",
            "...         ...       ...\n",
            "97383  1.846319         0\n",
            "97384  1.846319         0\n",
            "97385  1.846319         0\n",
            "97386  1.846319         0\n",
            "97387  1.846319         0\n",
            "\n",
            "[97388 rows x 2 columns]\n"
          ]
        }
      ]
    },
    {
      "cell_type": "code",
      "source": [
        "# compute RMSE\n",
        "mse = ((df['pred'] - df['observed']) ** 2).mean()\n",
        "rmse = np.sqrt(mse)\n",
        "print(\"\\n------RMSE Information Gain\\Mutual Information------\\n\", round(rmse, 3))"
      ],
      "metadata": {
        "colab": {
          "base_uri": "https://localhost:8080/"
        },
        "id": "f7PQzOQjvFcT",
        "outputId": "458dbc3c-8acf-416a-8784-0d130a8b61e4"
      },
      "execution_count": 66,
      "outputs": [
        {
          "output_type": "stream",
          "name": "stdout",
          "text": [
            "\n",
            "------RMSE Information Gain\\Mutual Information------\n",
            " 7.16\n"
          ]
        }
      ]
    },
    {
      "cell_type": "code",
      "source": [
        "##  Applying PCA Algorithms\n",
        "from sklearn.decomposition import PCA"
      ],
      "metadata": {
        "id": "g2-xZV5HvFYD"
      },
      "execution_count": 67,
      "outputs": []
    },
    {
      "cell_type": "code",
      "source": [
        "pca=PCA(n_components=2)"
      ],
      "metadata": {
        "id": "hLVZjmEpvnQ3"
      },
      "execution_count": 68,
      "outputs": []
    },
    {
      "cell_type": "code",
      "source": [
        "data_pca=pca.fit_transform(X)"
      ],
      "metadata": {
        "id": "zUib24G0vnMl"
      },
      "execution_count": 69,
      "outputs": []
    },
    {
      "cell_type": "code",
      "source": [
        "data_pca"
      ],
      "metadata": {
        "colab": {
          "base_uri": "https://localhost:8080/"
        },
        "id": "9zH9RdhrvnIS",
        "outputId": "da0ab46c-b22a-4694-fa97-38b9cc5c0f91"
      },
      "execution_count": 70,
      "outputs": [
        {
          "output_type": "execute_result",
          "data": {
            "text/plain": [
              "array([[ 9.39501774e-01, -1.63229922e+00],\n",
              "       [ 5.07778485e-02, -9.31921293e-01],\n",
              "       [-9.86275593e-01, -3.65312179e-01],\n",
              "       ...,\n",
              "       [-1.55277062e+00,  1.40181579e-03],\n",
              "       [-1.54380158e+00,  1.67675627e-02],\n",
              "       [-1.55277062e+00,  1.40181579e-03]])"
            ]
          },
          "metadata": {},
          "execution_count": 70
        }
      ]
    },
    {
      "cell_type": "code",
      "source": [
        "pca.explained_variance_"
      ],
      "metadata": {
        "colab": {
          "base_uri": "https://localhost:8080/"
        },
        "id": "szKu7Pw_uroM",
        "outputId": "dd86dfe0-0162-4069-be59-873a0e840b87"
      },
      "execution_count": 71,
      "outputs": [
        {
          "output_type": "execute_result",
          "data": {
            "text/plain": [
              "array([9.7961313 , 2.95365717])"
            ]
          },
          "metadata": {},
          "execution_count": 71
        }
      ]
    },
    {
      "cell_type": "code",
      "source": [
        "# train the model\n",
        "model.fit(data_pca, y)"
      ],
      "metadata": {
        "colab": {
          "base_uri": "https://localhost:8080/"
        },
        "id": "tUuwPY-0v0An",
        "outputId": "0fa74e5b-ca97-4737-dae0-4454e6d972d4"
      },
      "execution_count": 72,
      "outputs": [
        {
          "output_type": "execute_result",
          "data": {
            "text/plain": [
              "RandomForestRegressor(max_depth=5, random_state=42)"
            ]
          },
          "metadata": {},
          "execution_count": 72
        }
      ]
    },
    {
      "cell_type": "code",
      "source": [
        "# compute predictions\n",
        "predictions = model.predict(data_pca)"
      ],
      "metadata": {
        "id": "74W6WBAgvz1C"
      },
      "execution_count": 73,
      "outputs": []
    },
    {
      "cell_type": "code",
      "source": [
        "# create a dataframe with real predictions and values\n",
        "df = pd.DataFrame({'pred': predictions, 'observed': y})"
      ],
      "metadata": {
        "id": "A1qvnp-ZvzwF"
      },
      "execution_count": 74,
      "outputs": []
    },
    {
      "cell_type": "code",
      "source": [
        "# let's print the dataframe\n",
        "print(\"\\n------Predictions and real values------\\n\")\n",
        "print(df)"
      ],
      "metadata": {
        "colab": {
          "base_uri": "https://localhost:8080/"
        },
        "id": "e_JdX20ZvzsY",
        "outputId": "981112e4-ba50-4068-fb97-82c2037aff5e"
      },
      "execution_count": 75,
      "outputs": [
        {
          "output_type": "stream",
          "name": "stdout",
          "text": [
            "\n",
            "------Predictions and real values------\n",
            "\n",
            "            pred  observed\n",
            "0      16.856184         2\n",
            "1      10.191366         5\n",
            "2       4.377315         0\n",
            "3       4.377315         0\n",
            "4      31.675801         5\n",
            "...          ...       ...\n",
            "97383   4.377315         0\n",
            "97384   4.377315         0\n",
            "97385   4.377315         0\n",
            "97386   4.377315         0\n",
            "97387   4.377315         0\n",
            "\n",
            "[97388 rows x 2 columns]\n"
          ]
        }
      ]
    },
    {
      "cell_type": "code",
      "source": [
        "# compute RMSE\n",
        "mse = ((df['pred'] - df['observed']) ** 2).mean()\n",
        "rmse = np.sqrt(mse)\n",
        "print(\"\\n------RMSE of PCA------\\n\", round(rmse, 3))"
      ],
      "metadata": {
        "colab": {
          "base_uri": "https://localhost:8080/"
        },
        "id": "3kt5dc31wT0x",
        "outputId": "0f867d33-48fc-4b2b-8f83-1622639cb576"
      },
      "execution_count": 76,
      "outputs": [
        {
          "output_type": "stream",
          "name": "stdout",
          "text": [
            "\n",
            "------RMSE of PCA------\n",
            " 29.378\n"
          ]
        }
      ]
    },
    {
      "cell_type": "code",
      "source": [],
      "metadata": {
        "id": "bU3wwGS5wTwO"
      },
      "execution_count": null,
      "outputs": []
    },
    {
      "cell_type": "code",
      "source": [
        "## Standardization\n",
        "##from sklearn.preprocessing import StandardScaler\n",
        "##scaler=StandardScaler()"
      ],
      "metadata": {
        "id": "JM-sq31Bignm"
      },
      "execution_count": 13,
      "outputs": []
    },
    {
      "cell_type": "code",
      "source": [
        "##scaler.fit(df)"
      ],
      "metadata": {
        "colab": {
          "base_uri": "https://localhost:8080/"
        },
        "id": "SO6LgzuakwzX",
        "outputId": "517088f5-6a5a-45d7-d88b-1437c6a1b715"
      },
      "execution_count": 14,
      "outputs": [
        {
          "output_type": "execute_result",
          "data": {
            "text/plain": [
              "StandardScaler()"
            ]
          },
          "metadata": {},
          "execution_count": 14
        }
      ]
    },
    {
      "cell_type": "code",
      "source": [
        "##scaled_data=scaler.transform(df)\n"
      ],
      "metadata": {
        "id": "2ji9A46Rkwv1"
      },
      "execution_count": 15,
      "outputs": []
    },
    {
      "cell_type": "code",
      "source": [
        "##scaled_data"
      ],
      "metadata": {
        "colab": {
          "base_uri": "https://localhost:8080/"
        },
        "id": "74Z8BchUkwsa",
        "outputId": "2baef676-598e-4c0b-ed2a-2316f9139367"
      },
      "execution_count": 16,
      "outputs": [
        {
          "output_type": "execute_result",
          "data": {
            "text/plain": [
              "array([[ 0.58498718, -0.28504324,  0.32702458, ...,  0.08343628,\n",
              "         0.73191733, -0.33390351],\n",
              "       [ 0.22159049, -0.24742588,  0.15831873, ...,  0.0186505 ,\n",
              "         0.291943  , -0.33390351],\n",
              "       [-0.24109151, -0.31012148, -0.26784235, ..., -0.24826688,\n",
              "        -0.18062203, -0.33390351],\n",
              "       ...,\n",
              "       [-0.45244297, -0.31012148, -0.41153617, ..., -0.41541418,\n",
              "        -0.50978801, -0.33390351],\n",
              "       [-0.45244297, -0.31012148, -0.41153617, ..., -0.41541418,\n",
              "        -0.50978801, -0.33390351],\n",
              "       [-0.45244297, -0.31012148, -0.41153617, ..., -0.41541418,\n",
              "        -0.50978801, -0.33390351]])"
            ]
          },
          "metadata": {},
          "execution_count": 16
        }
      ]
    },
    {
      "cell_type": "code",
      "source": [
        "##  Applying PCA Algorithms\n",
        "##from sklearn.decomposition import PCA"
      ],
      "metadata": {
        "id": "YjwADSnGkwnr"
      },
      "execution_count": 17,
      "outputs": []
    },
    {
      "cell_type": "code",
      "source": [
        "##pca=PCA(n_components=2)"
      ],
      "metadata": {
        "id": "ZgVTl4S5rxxL"
      },
      "execution_count": 18,
      "outputs": []
    },
    {
      "cell_type": "code",
      "source": [
        "##data_pca=pca.fit_transform(scaled_data)"
      ],
      "metadata": {
        "id": "oHddHcPfrxqt"
      },
      "execution_count": 19,
      "outputs": []
    },
    {
      "cell_type": "code",
      "source": [
        "##data_pca"
      ],
      "metadata": {
        "colab": {
          "base_uri": "https://localhost:8080/"
        },
        "id": "b5tSyZ3grxUO",
        "outputId": "ba9641ad-3fb6-4cbd-c2d9-7e554433180e"
      },
      "execution_count": 20,
      "outputs": [
        {
          "output_type": "execute_result",
          "data": {
            "text/plain": [
              "array([[ 0.80337769, -1.70729001],\n",
              "       [-0.03371611, -0.95405917],\n",
              "       [-1.04128731, -0.33939797],\n",
              "       ...,\n",
              "       [-1.58222636,  0.06114199],\n",
              "       [-1.5729706 ,  0.07478806],\n",
              "       [-1.58222636,  0.06114199]])"
            ]
          },
          "metadata": {},
          "execution_count": 20
        }
      ]
    },
    {
      "cell_type": "code",
      "source": [
        "##pca.explained_variance_"
      ],
      "metadata": {
        "colab": {
          "base_uri": "https://localhost:8080/"
        },
        "id": "PkJ4xlxhrxLj",
        "outputId": "5f9daad0-9a9d-4dfd-a9a1-8c8475898799"
      },
      "execution_count": 21,
      "outputs": [
        {
          "output_type": "execute_result",
          "data": {
            "text/plain": [
              "array([10.27410296,  3.31102087])"
            ]
          },
          "metadata": {},
          "execution_count": 21
        }
      ]
    },
    {
      "cell_type": "code",
      "source": [
        "##plt.figure(figsize=(8,6))\n",
        "##plt.scatter(data_pca[:,0],data_pca[:,1],c=df['NEW_CASES'],cmap='plasma')\n",
        "##plt.xlabel('First principal component')\n",
        "##plt.ylabel('Second Principal Component')"
      ],
      "metadata": {
        "colab": {
          "base_uri": "https://localhost:8080/",
          "height": 405
        },
        "id": "nnVqceuHrxHh",
        "outputId": "38645a19-db60-4e5f-8309-b0d9ee0a4e4f"
      },
      "execution_count": 22,
      "outputs": [
        {
          "output_type": "execute_result",
          "data": {
            "text/plain": [
              "Text(0, 0.5, 'Second Principal Component')"
            ]
          },
          "metadata": {},
          "execution_count": 22
        },
        {
          "output_type": "display_data",
          "data": {
            "text/plain": [
              "<Figure size 576x432 with 1 Axes>"
            ],
            "image/png": "[encoded data removed]"
          },
          "metadata": {
            "needs_background": "light"
          }
        }
      ]
    }
  ]
}